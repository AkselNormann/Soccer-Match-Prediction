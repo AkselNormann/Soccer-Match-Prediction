{
 "cells": [
  {
   "cell_type": "markdown",
   "metadata": {},
   "source": [
    "## Capstone Project: Predicting the Result of European Club Soccer Matches"
   ]
  },
  {
   "cell_type": "markdown",
   "metadata": {},
   "source": [
    "### Overview:\n",
    "\n",
    "#### Problem: \n",
    "* Build a soccer match result classifier to predict one of the three possible results: home team winning, home team losing or a draw. Use the models predicted probability of the result in a betting strategy.\n",
    "\n",
    "#### Dateset Acquisition: \n",
    "* [Kaggle link](https://www.kaggle.com/hugomathien/soccer/home)\n",
    "\n",
    "#### Data Wrangling:\n",
    "* [Merging Player Attributes by position](#Merging1)\n",
    "* [Merging Team Attributes](#Merging2)\n",
    "\n",
    "#### Exploratory Data Analysis:\n",
    "* [Distribution of FIFA Player Attributes](#Player_Attributes)\n",
    "* [Null Value Exploration and Imputation](#DroppingNulls)\n",
    "\n",
    "\n",
    "#### Feature Engineering: \n",
    "* [Player Features](#Player_Features) were selected based on player position and the distribution of the feature.\n",
    "\n",
    "* [Team Features](#Team_Features) were selected based on domain knowledge.\n",
    "\n",
    "* Created algorithms for [team form](#team_form), [defensive form](#def_form), [attacking form](#att_form), [head-to-head record](#headtohead)\n",
    "                     \n",
    "#### Modeling The Data:\n",
    "* [Train](#train) on match data from 2008 to 2014 in 9 European Leagues  [Test](#test) on matches from 2015-2016\n",
    "\n",
    "* Machine Learning : [Logistic Regression](#Log), [KNN](#KNN), [SVM](#SVM), [XGBoost](#XGboost)\n",
    "\n",
    "#### Evaluation:\n",
    "\n",
    "* [Evaluated against accuracy scores against dummy classifiers](#Eval)\n",
    "\n",
    "* Using the model as a betting strategy: [Strategy 1](#Bet1) , [Strategy 2](#Bet2)\n"
   ]
  },
  {
   "cell_type": "markdown",
   "metadata": {},
   "source": [
    "Import packages:"
   ]
  },
  {
   "cell_type": "code",
   "execution_count": 1,
   "metadata": {},
   "outputs": [
    {
     "name": "stdout",
     "output_type": "stream",
     "text": [
      "Populating the interactive namespace from numpy and matplotlib\n"
     ]
    }
   ],
   "source": [
    "import sqlite3\n",
    "import pandas as pd\n",
    "pd.set_option('display.max_columns', None)\n",
    "import numpy as np\n",
    "import seaborn as sns\n",
    "import matplotlib.pyplot as plt\n",
    "%pylab inline\n",
    "%matplotlib inline\n",
    "import matplotlib.patches as mpatches\n",
    "pylab.rcParams['figure.figsize'] = (12.0, 10.0)\n",
    "\n",
    "from sklearn.model_selection import train_test_split, GridSearchCV, RandomizedSearchCV, StratifiedKFold\n",
    "from sklearn.preprocessing import StandardScaler\n",
    "from sklearn.decomposition import PCA\n",
    "from sklearn import model_selection, metrics, linear_model, datasets, feature_selection\n",
    "from sklearn.neighbors import KNeighborsClassifier\n",
    "from sklearn.linear_model import LogisticRegression, LogisticRegressionCV \n",
    "from sklearn.pipeline import Pipeline, FeatureUnion \n",
    "from sklearn.externals import joblib\n",
    "#import py.xgboost.mutex as xgb\n",
    "#from xgboost import XGBClassifier\n",
    "\n",
    "from sklearn.dummy import DummyClassifier\n",
    "from sklearn.metrics import confusion_matrix\n",
    "from sklearn.feature_selection import SelectKBest\n",
    "from sklearn.feature_selection import f_classif\n",
    "from sklearn.svm import SVC\n",
    "\n",
    "import warnings\n",
    "warnings.filterwarnings('ignore')\n",
    "from tqdm import tqdm_notebook as tqdm\n",
    "\n",
    "cnx = sqlite3.connect('database.sqlite 2')"
   ]
  },
  {
   "cell_type": "markdown",
   "metadata": {},
   "source": [
    "Instantiate connection to SQL file by creating an object named 'cnx'"
   ]
  },
  {
   "cell_type": "markdown",
   "metadata": {},
   "source": [
    "Create pandas dataframes using SQL queries on the connection object"
   ]
  },
  {
   "cell_type": "code",
   "execution_count": 2,
   "metadata": {},
   "outputs": [],
   "source": [
    "Country = pd.read_sql_query(\"SELECT * FROM Country\", cnx)\n",
    "League = pd.read_sql_query(\"SELECT * FROM League\", cnx)\n",
    "Match = pd.read_sql_query(\"SELECT * FROM Match\", cnx)\n",
    "Player = pd.read_sql_query(\"SELECT * FROM Player\", cnx)\n",
    "Player_Attributes = pd.read_sql_query(\"SELECT * FROM Player_Attributes\", cnx)\n",
    "Team = pd.read_sql_query(\"SELECT * FROM Team\", cnx)\n",
    "Team_Attributes = pd.read_sql_query(\"SELECT * FROM Team_Attributes\", cnx)"
   ]
  },
  {
   "cell_type": "markdown",
   "metadata": {},
   "source": [
    "##### Creating 'Result' column. This is the target variable.\n",
    "\n",
    "\n",
    "\n",
    "* 1 for home team winning  (home team scores more goals than away team)\n",
    "* 0 for a draw (home team and away team score equal number of goals)\n",
    "* -1 for home team losing (home team scores less goals than away team)\n"
   ]
  },
  {
   "cell_type": "code",
   "execution_count": 3,
   "metadata": {},
   "outputs": [],
   "source": [
    "Match['Result'] = Match['home_team_goal'] - Match['away_team_goal'] #Draw\n",
    "Match['Result'][Match['Result'] > 0 ] = 1                           #Home Win\n",
    "Match['Result'][Match['Result'] < 0] = -1                           # Home Loss"
   ]
  },
  {
   "cell_type": "markdown",
   "metadata": {},
   "source": [
    "##### Date Preprocessing"
   ]
  },
  {
   "cell_type": "markdown",
   "metadata": {},
   "source": [
    "In this step the stage column, that is useless to us, has been replaced by the year that the match was played and renamed 'date_year' and the 'date' column has the full date. The Match dataframe has been sorted by year. This will be useful going forward to split the matches and to merge player and team attributes.\n",
    "\n",
    "The date columns in the player and team attribute date frames have also been converted to pandas 'datetime'."
   ]
  },
  {
   "cell_type": "code",
   "execution_count": 4,
   "metadata": {},
   "outputs": [],
   "source": [
    "#Preprocessing Date Columns\n",
    "\n",
    "Match['stage'] = pd.to_datetime(Match['date']).dt.year\n",
    "Match = Match.rename(columns={'stage': 'date_year'})\n",
    "Match['date'] = pd.to_datetime(Match['date'])\n",
    "\n",
    "Player_Attributes['date']= pd.to_datetime(Player_Attributes['date']).dt.year \n",
    "Team_Attributes['date']= pd.to_datetime(Team_Attributes['date']).dt.year \n",
    "\n",
    "#Sort Match table by date:\n",
    "Match = Match.sort_values(by='date',ascending = True)"
   ]
  },
  {
   "cell_type": "markdown",
   "metadata": {},
   "source": [
    "<a id='team_form'></a>\n",
    "##### Team Form Feature Creation:"
   ]
  },
  {
   "cell_type": "markdown",
   "metadata": {},
   "source": [
    "This function looks up the result column of the teams previous ten matches (home or away) and sums up the 'result' column. The sum of the results provide a measure of the teams 'form' coming into the game."
   ]
  },
  {
   "cell_type": "code",
   "execution_count": 5,
   "metadata": {},
   "outputs": [],
   "source": [
    "#Home Team Form Algorithim\n",
    "def Form_Home_Team (df):\n",
    "    \n",
    "    ''' Returns the sum of the 'Result' column for the last ten matches for the home team'''\n",
    "    \n",
    "    team = df['home_team_api_id']\n",
    "    date = df['date']\n",
    "    team_matches = Match[(Match['home_team_api_id'] == team) | (Match['away_team_api_id'] == team)]\n",
    "    last_matches = team_matches[team_matches['date'] < date ].sort_values(by = 'date', ascending = False).iloc[0:10,:]\n",
    "    score = last_matches['Result'].sum()\n",
    "    return score\n",
    "\n",
    "#Away Team Form Algorithim\n",
    "def Form_Away_Team (df):\n",
    "    \n",
    "    ''' Returns the sum of the 'Result' column for the last ten matches for the home team'''\n",
    "    \n",
    "    team = df['away_team_api_id']\n",
    "    date = df['date']\n",
    "    team_matches = Match[(Match['home_team_api_id'] == team) | (Match['away_team_api_id'] == team)]\n",
    "    last_matches = team_matches[team_matches['date'] < date ].sort_values(by = 'date', ascending = False).iloc[0:10,:]\n",
    "    score = last_matches['Result'].sum()\n",
    "    return score\n",
    "    "
   ]
  },
  {
   "cell_type": "markdown",
   "metadata": {},
   "source": [
    "The function is applied as a lambda function to create two new form features for the home and away team."
   ]
  },
  {
   "cell_type": "code",
   "execution_count": 6,
   "metadata": {},
   "outputs": [],
   "source": [
    "Match['Home_Team_Form'] = Match.apply(lambda x: Form_Home_Team(x),axis=1 )\n",
    "Match['Away_Team_Form'] = Match.apply(lambda x: Form_Away_Team(x),axis=1 )"
   ]
  },
  {
   "cell_type": "markdown",
   "metadata": {},
   "source": [
    "<a id='att_form'></a>\n",
    "##### Attacking Form Feature Creation:"
   ]
  },
  {
   "cell_type": "markdown",
   "metadata": {},
   "source": [
    "This function takes a dateframe and a team as paremeter and returns the total number of goals scored by that team. This function is called in the goal scoring form function."
   ]
  },
  {
   "cell_type": "code",
   "execution_count": 7,
   "metadata": {},
   "outputs": [],
   "source": [
    "#function to get goals scored by a team\n",
    "def goals_scored_calc(df, team):\n",
    "    \n",
    "    '''Returns goals scored by both teams in previous 10 matches'''\n",
    "    \n",
    "    home_goals = int(df['home_team_goal'][df['home_team_api_id'] == team].sum())\n",
    "    away_goals = int(df['away_team_goal'][df['away_team_api_id'] == team].sum())\n",
    "    total_goals = home_goals + away_goals\n",
    "    return total_goals"
   ]
  },
  {
   "cell_type": "markdown",
   "metadata": {},
   "source": [
    "This function returns the total number of goals scored by a team in its last ten matches."
   ]
  },
  {
   "cell_type": "code",
   "execution_count": 8,
   "metadata": {},
   "outputs": [],
   "source": [
    "#Home Team Attacking Form Algorithim\n",
    "def Home_Team_Goal_Scoring_Form (df):\n",
    "    \n",
    "    ''' Returns the goals scored by the home team in prevous 10 matches'''\n",
    "    \n",
    "    team = df['home_team_api_id']\n",
    "    date = df['date']\n",
    "    team_matches = Match[(Match['home_team_api_id'] == team) | (Match['away_team_api_id'] == team)]\n",
    "    last_matches = team_matches[team_matches['date'] < date ].sort_values(by = 'date', ascending = False).iloc[0:10,:]\n",
    "    return goals_scored_calc(last_matches,team)\n",
    "    \n",
    "#Away Team Attacking Form Algorithim\n",
    "def Away_Team_Goal_Scoring_Form (df):\n",
    "    \n",
    "    ''' Returns the goals scored by the away team in prevous 10 matches'''\n",
    "    \n",
    "    team = df['away_team_api_id']\n",
    "    date = df['date']\n",
    "    team_matches = Match[(Match['home_team_api_id'] == team) | (Match['away_team_api_id'] == team)]\n",
    "    last_matches = team_matches[team_matches['date'] < date ].sort_values(by = 'date', ascending = False).iloc[0:10,:]\n",
    "    return goals_scored_calc(last_matches,team)\n",
    "    "
   ]
  },
  {
   "cell_type": "markdown",
   "metadata": {},
   "source": [
    "The function is applied as a lambda function to create two new goal scoring form features for the home and away team."
   ]
  },
  {
   "cell_type": "code",
   "execution_count": 9,
   "metadata": {},
   "outputs": [],
   "source": [
    "Match['Home_Team_Goal_Scoring_Form'] = Match.apply(lambda x: Home_Team_Goal_Scoring_Form(x),axis=1 )\n",
    "Match['Away_Team_Goal_Scoring_Form'] = Match.apply(lambda x: Away_Team_Goal_Scoring_Form(x),axis=1 )"
   ]
  },
  {
   "cell_type": "markdown",
   "metadata": {},
   "source": [
    "<a id='def_form'></a>\n",
    "##### Defensive Form Feature Creation:"
   ]
  },
  {
   "cell_type": "markdown",
   "metadata": {},
   "source": [
    "This function takes a dateframe and a team as paremeter and returns the total number of goals conceded by that team. This function is called in the goal conceded form function."
   ]
  },
  {
   "cell_type": "code",
   "execution_count": 10,
   "metadata": {},
   "outputs": [],
   "source": [
    "#function to get goals conceded by a team\n",
    "def goals_conceded_calc(df, team):\n",
    "    \n",
    "    '''Returns goals conceded by both teams in previous 10 matches'''\n",
    "    \n",
    "    home_goals_conceded = int(df['away_team_goal'][df['home_team_api_id'] == team].sum())\n",
    "    away_goals_conceded = int(df['home_team_goal'][df['away_team_api_id'] == team].sum())\n",
    "    total_goals_conceded = home_goals_conceded + away_goals_conceded\n",
    "    return total_goals_conceded"
   ]
  },
  {
   "cell_type": "markdown",
   "metadata": {},
   "source": [
    "This function returns the total number of goals conceded by a team in its last ten matches."
   ]
  },
  {
   "cell_type": "code",
   "execution_count": 11,
   "metadata": {},
   "outputs": [],
   "source": [
    "#Home Team Defensive Form Algorithim\n",
    "def Home_Team_Defensive_Form (df):\n",
    "    \n",
    "    ''' Returns the goals conceded by the home team in prevous 10 matches'''\n",
    "    \n",
    "    team = df['home_team_api_id']\n",
    "    date = df['date']\n",
    "    team_matches = Match[(Match['home_team_api_id'] == team) | (Match['away_team_api_id'] == team)]\n",
    "    last_matches = team_matches[team_matches['date'] < date ].sort_values(by = 'date', ascending = False).iloc[0:10,:]\n",
    "    return goals_conceded_calc(last_matches,team)\n",
    "    \n",
    "#Away Team Defensive Form Algorithim\n",
    "def Away_Team_Defensive_Form (df):\n",
    "    \n",
    "    ''' Returns the goals conceded by the away team in prevous 10 matches'''\n",
    "    \n",
    "    team = df['away_team_api_id']\n",
    "    date = df['date']\n",
    "    team_matches = Match[(Match['home_team_api_id'] == team) | (Match['away_team_api_id'] == team)]\n",
    "    last_matches = team_matches[team_matches['date'] < date ].sort_values(by = 'date', ascending = False).iloc[0:10,:]\n",
    "    return goals_conceded_calc(last_matches,team)\n",
    "    "
   ]
  },
  {
   "cell_type": "markdown",
   "metadata": {},
   "source": [
    "The function is applied as a lambda function to create two new goal conceding form features for the home and away team."
   ]
  },
  {
   "cell_type": "code",
   "execution_count": 12,
   "metadata": {},
   "outputs": [],
   "source": [
    "Match['Home_Team_Defensive_Form'] = Match.apply(lambda x: Home_Team_Defensive_Form(x),axis=1 )\n",
    "Match['Away_Team_Defensive_Form'] = Match.apply(lambda x: Away_Team_Defensive_Form(x),axis=1 )"
   ]
  },
  {
   "cell_type": "markdown",
   "metadata": {},
   "source": [
    "<a id='headtohead'></a>\n",
    "##### Head to Head Feature Creation:"
   ]
  },
  {
   "cell_type": "markdown",
   "metadata": {},
   "source": [
    "This function takes a sum of the result column for the previous 4 matches played between the two teams. The sum of the result column is a feature engineered as a metric to quantify the head-to-head record of the teams coming into a particular game."
   ]
  },
  {
   "cell_type": "code",
   "execution_count": 13,
   "metadata": {},
   "outputs": [],
   "source": [
    "#Home Team Form Algorithim\n",
    "def Head_to_Head (df):\n",
    "    \n",
    "    ''' Returns the sum of the 'Result' column for the previous four mathes played between the two teams'''\n",
    "    \n",
    "    team1 = df['home_team_api_id']\n",
    "    team2 = df['away_team_api_id']\n",
    "    date = df['date']\n",
    "    team_matches = Match[((Match['home_team_api_id'] == team1) & (Match['away_team_api_id'] == team2))|\\\n",
    "     ((Match['home_team_api_id'] == team2) & (Match['away_team_api_id'] == team1))]\n",
    "    last_matches = team_matches[team_matches['date'] < date ].sort_values(by = 'date', ascending = False).iloc[0:4,:]\n",
    "    score = last_matches['Result'].sum()\n",
    "    return score\n",
    "    "
   ]
  },
  {
   "cell_type": "markdown",
   "metadata": {},
   "source": [
    "The function is applied as a lambda function to create a 'head to head 'record feature."
   ]
  },
  {
   "cell_type": "code",
   "execution_count": 14,
   "metadata": {},
   "outputs": [],
   "source": [
    "#Adding head to head features\n",
    "Match['Head_to_Head'] = Match.apply(lambda x: Head_to_Head(x),axis=1 )"
   ]
  },
  {
   "cell_type": "markdown",
   "metadata": {},
   "source": [
    "<a id='DroppingNulls'></a>\n",
    "### Cleaning"
   ]
  },
  {
   "cell_type": "markdown",
   "metadata": {},
   "source": [
    "1. Dropping all bookies odds columns except 'Bet 365' vendor as it has the least null values.\n",
    "\n",
    "2. Dropping home_player_X and home_player_Y columns\n",
    "\n",
    "3. Dropping columns with no data\n",
    "\n",
    "4. Dropping rows with null values for played ID's. (Player ID identifier is crucial in getting player rating features)\n",
    "\n",
    "5. Dropping duplicate player attributes for the same year:"
   ]
  },
  {
   "cell_type": "code",
   "execution_count": 15,
   "metadata": {},
   "outputs": [],
   "source": [
    "#1\n",
    "betting_odds_indices = np.arange(Match.columns.get_loc('B365H')+3,Match.columns.get_loc('BSA')+1,1)\n",
    "Match = Match.drop(Match.columns[betting_odds_indices], axis=1)\n",
    "\n",
    "#2\n",
    "X_Y_player_indices = np.arange(Match.columns.get_loc(\"home_player_X1\"),Match.columns.get_loc(\"away_player_Y11\")+1,1)\n",
    "Match = Match.drop(Match.columns[X_Y_player_indices], axis=1) \n",
    "\n",
    "#3\n",
    "Match = Match.drop(['goal','shoton','shotoff','foulcommit','card','cross','corner','possession',\\\n",
    "                   'match_api_id','season','id'], axis=1)\n",
    "\n",
    "#4\n",
    "Match = Match.dropna(subset= ['home_player_1','home_player_2','home_player_3','home_player_4','home_player_5',\\\n",
    "                           'home_player_6','home_player_7','home_player_8','home_player_9','home_player_10',\\\n",
    "                           'home_player_11','away_player_1','away_player_2','away_player_3','away_player_4',\n",
    "                           'away_player_5','away_player_6','away_player_7','away_player_8','away_player_9',\n",
    "                           'away_player_10','away_player_11'])\n",
    "\n",
    "#5\n",
    "Player_Attributes = Player_Attributes.drop_duplicates(subset=['player_api_id','date'])"
   ]
  },
  {
   "cell_type": "markdown",
   "metadata": {},
   "source": [
    "##### Visualizing Target Variable: Result"
   ]
  },
  {
   "cell_type": "markdown",
   "metadata": {},
   "source": [
    "The home team winning is the most common result."
   ]
  },
  {
   "cell_type": "code",
   "execution_count": 16,
   "metadata": {},
   "outputs": [
    {
     "data": {
      "image/png": "[encoded data removed]",
      "text/plain": [
       "<Figure size 432x288 with 1 Axes>"
      ]
     },
     "metadata": {
      "needs_background": "light"
     },
     "output_type": "display_data"
    }
   ],
   "source": [
    "Match['Result'] = Match['Result'].replace([1,-1,0],['Home Win','Home Loss','Draw'])\n",
    "sns.countplot(Match['Result'])\n",
    "plt.show()\n",
    "Match['Result'] = Match['Result'].replace(['Home Win','Home Loss','Draw'],[1,-1,0])"
   ]
  },
  {
   "cell_type": "markdown",
   "metadata": {},
   "source": [
    "<a id='Player_Attributes'></a>\n",
    "### Player Attributes Exploration  & Visualization:"
   ]
  },
  {
   "cell_type": "code",
   "execution_count": 17,
   "metadata": {},
   "outputs": [
    {
     "data": {
      "text/html": [
       "<div>\n",
       "<style scoped>\n",
       "    .dataframe tbody tr th:only-of-type {\n",
       "        vertical-align: middle;\n",
       "    }\n",
       "\n",
       "    .dataframe tbody tr th {\n",
       "        vertical-align: top;\n",
       "    }\n",
       "\n",
       "    .dataframe thead th {\n",
       "        text-align: right;\n",
       "    }\n",
       "</style>\n",
       "<table border=\"1\" class=\"dataframe\">\n",
       "  <thead>\n",
       "    <tr style=\"text-align: right;\">\n",
       "      <th></th>\n",
       "      <th>id</th>\n",
       "      <th>player_fifa_api_id</th>\n",
       "      <th>player_api_id</th>\n",
       "      <th>date</th>\n",
       "      <th>overall_rating</th>\n",
       "      <th>potential</th>\n",
       "      <th>crossing</th>\n",
       "      <th>finishing</th>\n",
       "      <th>heading_accuracy</th>\n",
       "      <th>short_passing</th>\n",
       "      <th>volleys</th>\n",
       "      <th>dribbling</th>\n",
       "      <th>curve</th>\n",
       "      <th>free_kick_accuracy</th>\n",
       "      <th>long_passing</th>\n",
       "      <th>ball_control</th>\n",
       "      <th>acceleration</th>\n",
       "      <th>sprint_speed</th>\n",
       "      <th>agility</th>\n",
       "      <th>reactions</th>\n",
       "      <th>balance</th>\n",
       "      <th>shot_power</th>\n",
       "      <th>jumping</th>\n",
       "      <th>stamina</th>\n",
       "      <th>strength</th>\n",
       "      <th>long_shots</th>\n",
       "      <th>aggression</th>\n",
       "      <th>interceptions</th>\n",
       "      <th>positioning</th>\n",
       "      <th>vision</th>\n",
       "      <th>penalties</th>\n",
       "      <th>marking</th>\n",
       "      <th>standing_tackle</th>\n",
       "      <th>sliding_tackle</th>\n",
       "      <th>gk_diving</th>\n",
       "      <th>gk_handling</th>\n",
       "      <th>gk_kicking</th>\n",
       "      <th>gk_positioning</th>\n",
       "      <th>gk_reflexes</th>\n",
       "    </tr>\n",
       "  </thead>\n",
       "  <tbody>\n",
       "    <tr>\n",
       "      <th>count</th>\n",
       "      <td>73059.000000</td>\n",
       "      <td>73059.000000</td>\n",
       "      <td>73059.000000</td>\n",
       "      <td>73059.000000</td>\n",
       "      <td>73059.000000</td>\n",
       "      <td>73059.000000</td>\n",
       "      <td>73059.000000</td>\n",
       "      <td>73059.000000</td>\n",
       "      <td>73059.000000</td>\n",
       "      <td>73059.000000</td>\n",
       "      <td>71615.000000</td>\n",
       "      <td>73059.000000</td>\n",
       "      <td>71615.000000</td>\n",
       "      <td>73059.000000</td>\n",
       "      <td>73059.000000</td>\n",
       "      <td>73059.000000</td>\n",
       "      <td>73059.000000</td>\n",
       "      <td>73059.000000</td>\n",
       "      <td>71615.000000</td>\n",
       "      <td>73059.000000</td>\n",
       "      <td>71615.000000</td>\n",
       "      <td>73059.000000</td>\n",
       "      <td>71615.000000</td>\n",
       "      <td>73059.000000</td>\n",
       "      <td>73059.000000</td>\n",
       "      <td>73059.000000</td>\n",
       "      <td>73059.000000</td>\n",
       "      <td>73059.000000</td>\n",
       "      <td>73059.000000</td>\n",
       "      <td>71615.000000</td>\n",
       "      <td>73059.000000</td>\n",
       "      <td>73059.000000</td>\n",
       "      <td>73059.000000</td>\n",
       "      <td>71615.000000</td>\n",
       "      <td>73059.000000</td>\n",
       "      <td>73059.000000</td>\n",
       "      <td>73059.000000</td>\n",
       "      <td>73059.000000</td>\n",
       "      <td>73059.000000</td>\n",
       "    </tr>\n",
       "    <tr>\n",
       "      <th>mean</th>\n",
       "      <td>92100.370317</td>\n",
       "      <td>161336.039201</td>\n",
       "      <td>126788.151261</td>\n",
       "      <td>2011.340095</td>\n",
       "      <td>67.446584</td>\n",
       "      <td>72.692646</td>\n",
       "      <td>53.498597</td>\n",
       "      <td>48.237685</td>\n",
       "      <td>56.383676</td>\n",
       "      <td>60.791388</td>\n",
       "      <td>47.904741</td>\n",
       "      <td>56.990638</td>\n",
       "      <td>51.055072</td>\n",
       "      <td>47.552759</td>\n",
       "      <td>55.771308</td>\n",
       "      <td>61.556824</td>\n",
       "      <td>66.499008</td>\n",
       "      <td>66.925115</td>\n",
       "      <td>64.831963</td>\n",
       "      <td>64.981891</td>\n",
       "      <td>64.590337</td>\n",
       "      <td>59.841580</td>\n",
       "      <td>66.462291</td>\n",
       "      <td>65.908923</td>\n",
       "      <td>66.875963</td>\n",
       "      <td>51.380720</td>\n",
       "      <td>60.114469</td>\n",
       "      <td>51.990501</td>\n",
       "      <td>54.391040</td>\n",
       "      <td>57.200991</td>\n",
       "      <td>54.021407</td>\n",
       "      <td>46.490891</td>\n",
       "      <td>49.674783</td>\n",
       "      <td>47.513175</td>\n",
       "      <td>15.124434</td>\n",
       "      <td>17.611287</td>\n",
       "      <td>24.783586</td>\n",
       "      <td>17.683557</td>\n",
       "      <td>18.021298</td>\n",
       "    </tr>\n",
       "    <tr>\n",
       "      <th>std</th>\n",
       "      <td>53106.925473</td>\n",
       "      <td>56449.744436</td>\n",
       "      <td>133346.086777</td>\n",
       "      <td>2.907770</td>\n",
       "      <td>7.333027</td>\n",
       "      <td>6.778585</td>\n",
       "      <td>17.432631</td>\n",
       "      <td>19.202915</td>\n",
       "      <td>16.856317</td>\n",
       "      <td>14.633454</td>\n",
       "      <td>18.439440</td>\n",
       "      <td>18.045576</td>\n",
       "      <td>18.285628</td>\n",
       "      <td>17.825487</td>\n",
       "      <td>14.483485</td>\n",
       "      <td>15.540605</td>\n",
       "      <td>12.857347</td>\n",
       "      <td>12.548036</td>\n",
       "      <td>12.716214</td>\n",
       "      <td>9.379084</td>\n",
       "      <td>12.849754</td>\n",
       "      <td>16.499483</td>\n",
       "      <td>10.910055</td>\n",
       "      <td>13.162434</td>\n",
       "      <td>12.101084</td>\n",
       "      <td>18.491479</td>\n",
       "      <td>16.082722</td>\n",
       "      <td>19.043011</td>\n",
       "      <td>18.597577</td>\n",
       "      <td>14.929767</td>\n",
       "      <td>15.750907</td>\n",
       "      <td>21.272933</td>\n",
       "      <td>21.446403</td>\n",
       "      <td>21.687854</td>\n",
       "      <td>17.517688</td>\n",
       "      <td>16.341745</td>\n",
       "      <td>23.368241</td>\n",
       "      <td>16.539693</td>\n",
       "      <td>17.636146</td>\n",
       "    </tr>\n",
       "    <tr>\n",
       "      <th>min</th>\n",
       "      <td>1.000000</td>\n",
       "      <td>2.000000</td>\n",
       "      <td>2625.000000</td>\n",
       "      <td>2007.000000</td>\n",
       "      <td>33.000000</td>\n",
       "      <td>39.000000</td>\n",
       "      <td>1.000000</td>\n",
       "      <td>1.000000</td>\n",
       "      <td>1.000000</td>\n",
       "      <td>3.000000</td>\n",
       "      <td>1.000000</td>\n",
       "      <td>1.000000</td>\n",
       "      <td>2.000000</td>\n",
       "      <td>1.000000</td>\n",
       "      <td>3.000000</td>\n",
       "      <td>6.000000</td>\n",
       "      <td>13.000000</td>\n",
       "      <td>12.000000</td>\n",
       "      <td>11.000000</td>\n",
       "      <td>20.000000</td>\n",
       "      <td>12.000000</td>\n",
       "      <td>2.000000</td>\n",
       "      <td>14.000000</td>\n",
       "      <td>10.000000</td>\n",
       "      <td>18.000000</td>\n",
       "      <td>1.000000</td>\n",
       "      <td>8.000000</td>\n",
       "      <td>1.000000</td>\n",
       "      <td>2.000000</td>\n",
       "      <td>1.000000</td>\n",
       "      <td>2.000000</td>\n",
       "      <td>1.000000</td>\n",
       "      <td>1.000000</td>\n",
       "      <td>2.000000</td>\n",
       "      <td>1.000000</td>\n",
       "      <td>1.000000</td>\n",
       "      <td>1.000000</td>\n",
       "      <td>1.000000</td>\n",
       "      <td>1.000000</td>\n",
       "    </tr>\n",
       "    <tr>\n",
       "      <th>25%</th>\n",
       "      <td>46123.500000</td>\n",
       "      <td>148758.000000</td>\n",
       "      <td>33775.000000</td>\n",
       "      <td>2009.000000</td>\n",
       "      <td>63.000000</td>\n",
       "      <td>68.000000</td>\n",
       "      <td>43.000000</td>\n",
       "      <td>32.000000</td>\n",
       "      <td>48.000000</td>\n",
       "      <td>55.000000</td>\n",
       "      <td>33.000000</td>\n",
       "      <td>48.000000</td>\n",
       "      <td>39.000000</td>\n",
       "      <td>35.000000</td>\n",
       "      <td>47.000000</td>\n",
       "      <td>56.000000</td>\n",
       "      <td>60.000000</td>\n",
       "      <td>61.000000</td>\n",
       "      <td>58.000000</td>\n",
       "      <td>59.000000</td>\n",
       "      <td>58.000000</td>\n",
       "      <td>52.000000</td>\n",
       "      <td>60.000000</td>\n",
       "      <td>60.000000</td>\n",
       "      <td>60.000000</td>\n",
       "      <td>38.000000</td>\n",
       "      <td>50.000000</td>\n",
       "      <td>35.000000</td>\n",
       "      <td>43.000000</td>\n",
       "      <td>48.000000</td>\n",
       "      <td>44.000000</td>\n",
       "      <td>25.000000</td>\n",
       "      <td>28.000000</td>\n",
       "      <td>25.000000</td>\n",
       "      <td>7.000000</td>\n",
       "      <td>9.000000</td>\n",
       "      <td>9.000000</td>\n",
       "      <td>9.000000</td>\n",
       "      <td>9.000000</td>\n",
       "    </tr>\n",
       "    <tr>\n",
       "      <th>50%</th>\n",
       "      <td>91845.000000</td>\n",
       "      <td>179873.000000</td>\n",
       "      <td>68861.000000</td>\n",
       "      <td>2011.000000</td>\n",
       "      <td>67.000000</td>\n",
       "      <td>73.000000</td>\n",
       "      <td>57.000000</td>\n",
       "      <td>51.000000</td>\n",
       "      <td>59.000000</td>\n",
       "      <td>64.000000</td>\n",
       "      <td>50.000000</td>\n",
       "      <td>62.000000</td>\n",
       "      <td>53.000000</td>\n",
       "      <td>48.000000</td>\n",
       "      <td>58.000000</td>\n",
       "      <td>65.000000</td>\n",
       "      <td>68.000000</td>\n",
       "      <td>68.000000</td>\n",
       "      <td>66.000000</td>\n",
       "      <td>66.000000</td>\n",
       "      <td>66.000000</td>\n",
       "      <td>63.000000</td>\n",
       "      <td>67.000000</td>\n",
       "      <td>68.000000</td>\n",
       "      <td>68.000000</td>\n",
       "      <td>55.000000</td>\n",
       "      <td>63.000000</td>\n",
       "      <td>56.000000</td>\n",
       "      <td>58.000000</td>\n",
       "      <td>59.000000</td>\n",
       "      <td>56.000000</td>\n",
       "      <td>50.000000</td>\n",
       "      <td>55.000000</td>\n",
       "      <td>53.000000</td>\n",
       "      <td>10.000000</td>\n",
       "      <td>12.000000</td>\n",
       "      <td>12.000000</td>\n",
       "      <td>12.000000</td>\n",
       "      <td>12.000000</td>\n",
       "    </tr>\n",
       "    <tr>\n",
       "      <th>75%</th>\n",
       "      <td>138302.500000</td>\n",
       "      <td>198076.000000</td>\n",
       "      <td>181197.000000</td>\n",
       "      <td>2014.000000</td>\n",
       "      <td>72.000000</td>\n",
       "      <td>77.000000</td>\n",
       "      <td>66.000000</td>\n",
       "      <td>64.000000</td>\n",
       "      <td>68.000000</td>\n",
       "      <td>71.000000</td>\n",
       "      <td>63.000000</td>\n",
       "      <td>70.000000</td>\n",
       "      <td>65.000000</td>\n",
       "      <td>61.000000</td>\n",
       "      <td>66.000000</td>\n",
       "      <td>72.000000</td>\n",
       "      <td>75.000000</td>\n",
       "      <td>75.000000</td>\n",
       "      <td>74.000000</td>\n",
       "      <td>71.000000</td>\n",
       "      <td>73.000000</td>\n",
       "      <td>72.000000</td>\n",
       "      <td>74.000000</td>\n",
       "      <td>75.000000</td>\n",
       "      <td>75.000000</td>\n",
       "      <td>66.000000</td>\n",
       "      <td>72.000000</td>\n",
       "      <td>67.000000</td>\n",
       "      <td>68.000000</td>\n",
       "      <td>68.000000</td>\n",
       "      <td>66.000000</td>\n",
       "      <td>65.000000</td>\n",
       "      <td>68.000000</td>\n",
       "      <td>66.000000</td>\n",
       "      <td>13.000000</td>\n",
       "      <td>21.000000</td>\n",
       "      <td>47.000000</td>\n",
       "      <td>21.000000</td>\n",
       "      <td>21.000000</td>\n",
       "    </tr>\n",
       "    <tr>\n",
       "      <th>max</th>\n",
       "      <td>183977.000000</td>\n",
       "      <td>234141.000000</td>\n",
       "      <td>750584.000000</td>\n",
       "      <td>2016.000000</td>\n",
       "      <td>94.000000</td>\n",
       "      <td>97.000000</td>\n",
       "      <td>95.000000</td>\n",
       "      <td>97.000000</td>\n",
       "      <td>95.000000</td>\n",
       "      <td>97.000000</td>\n",
       "      <td>93.000000</td>\n",
       "      <td>97.000000</td>\n",
       "      <td>94.000000</td>\n",
       "      <td>97.000000</td>\n",
       "      <td>97.000000</td>\n",
       "      <td>97.000000</td>\n",
       "      <td>97.000000</td>\n",
       "      <td>97.000000</td>\n",
       "      <td>96.000000</td>\n",
       "      <td>96.000000</td>\n",
       "      <td>96.000000</td>\n",
       "      <td>96.000000</td>\n",
       "      <td>96.000000</td>\n",
       "      <td>96.000000</td>\n",
       "      <td>96.000000</td>\n",
       "      <td>96.000000</td>\n",
       "      <td>97.000000</td>\n",
       "      <td>96.000000</td>\n",
       "      <td>96.000000</td>\n",
       "      <td>97.000000</td>\n",
       "      <td>96.000000</td>\n",
       "      <td>94.000000</td>\n",
       "      <td>95.000000</td>\n",
       "      <td>95.000000</td>\n",
       "      <td>94.000000</td>\n",
       "      <td>92.000000</td>\n",
       "      <td>97.000000</td>\n",
       "      <td>96.000000</td>\n",
       "      <td>96.000000</td>\n",
       "    </tr>\n",
       "  </tbody>\n",
       "</table>\n",
       "</div>"
      ],
      "text/plain": [
       "                  id  player_fifa_api_id  player_api_id          date  \\\n",
       "count   73059.000000        73059.000000   73059.000000  73059.000000   \n",
       "mean    92100.370317       161336.039201  126788.151261   2011.340095   \n",
       "std     53106.925473        56449.744436  133346.086777      2.907770   \n",
       "min         1.000000            2.000000    2625.000000   2007.000000   \n",
       "25%     46123.500000       148758.000000   33775.000000   2009.000000   \n",
       "50%     91845.000000       179873.000000   68861.000000   2011.000000   \n",
       "75%    138302.500000       198076.000000  181197.000000   2014.000000   \n",
       "max    183977.000000       234141.000000  750584.000000   2016.000000   \n",
       "\n",
       "       overall_rating     potential      crossing     finishing  \\\n",
       "count    73059.000000  73059.000000  73059.000000  73059.000000   \n",
       "mean        67.446584     72.692646     53.498597     48.237685   \n",
       "std          7.333027      6.778585     17.432631     19.202915   \n",
       "min         33.000000     39.000000      1.000000      1.000000   \n",
       "25%         63.000000     68.000000     43.000000     32.000000   \n",
       "50%         67.000000     73.000000     57.000000     51.000000   \n",
       "75%         72.000000     77.000000     66.000000     64.000000   \n",
       "max         94.000000     97.000000     95.000000     97.000000   \n",
       "\n",
       "       heading_accuracy  short_passing       volleys     dribbling  \\\n",
       "count      73059.000000   73059.000000  71615.000000  73059.000000   \n",
       "mean          56.383676      60.791388     47.904741     56.990638   \n",
       "std           16.856317      14.633454     18.439440     18.045576   \n",
       "min            1.000000       3.000000      1.000000      1.000000   \n",
       "25%           48.000000      55.000000     33.000000     48.000000   \n",
       "50%           59.000000      64.000000     50.000000     62.000000   \n",
       "75%           68.000000      71.000000     63.000000     70.000000   \n",
       "max           95.000000      97.000000     93.000000     97.000000   \n",
       "\n",
       "              curve  free_kick_accuracy  long_passing  ball_control  \\\n",
       "count  71615.000000        73059.000000  73059.000000  73059.000000   \n",
       "mean      51.055072           47.552759     55.771308     61.556824   \n",
       "std       18.285628           17.825487     14.483485     15.540605   \n",
       "min        2.000000            1.000000      3.000000      6.000000   \n",
       "25%       39.000000           35.000000     47.000000     56.000000   \n",
       "50%       53.000000           48.000000     58.000000     65.000000   \n",
       "75%       65.000000           61.000000     66.000000     72.000000   \n",
       "max       94.000000           97.000000     97.000000     97.000000   \n",
       "\n",
       "       acceleration  sprint_speed       agility     reactions       balance  \\\n",
       "count  73059.000000  73059.000000  71615.000000  73059.000000  71615.000000   \n",
       "mean      66.499008     66.925115     64.831963     64.981891     64.590337   \n",
       "std       12.857347     12.548036     12.716214      9.379084     12.849754   \n",
       "min       13.000000     12.000000     11.000000     20.000000     12.000000   \n",
       "25%       60.000000     61.000000     58.000000     59.000000     58.000000   \n",
       "50%       68.000000     68.000000     66.000000     66.000000     66.000000   \n",
       "75%       75.000000     75.000000     74.000000     71.000000     73.000000   \n",
       "max       97.000000     97.000000     96.000000     96.000000     96.000000   \n",
       "\n",
       "         shot_power       jumping       stamina      strength    long_shots  \\\n",
       "count  73059.000000  71615.000000  73059.000000  73059.000000  73059.000000   \n",
       "mean      59.841580     66.462291     65.908923     66.875963     51.380720   \n",
       "std       16.499483     10.910055     13.162434     12.101084     18.491479   \n",
       "min        2.000000     14.000000     10.000000     18.000000      1.000000   \n",
       "25%       52.000000     60.000000     60.000000     60.000000     38.000000   \n",
       "50%       63.000000     67.000000     68.000000     68.000000     55.000000   \n",
       "75%       72.000000     74.000000     75.000000     75.000000     66.000000   \n",
       "max       96.000000     96.000000     96.000000     96.000000     96.000000   \n",
       "\n",
       "         aggression  interceptions   positioning        vision     penalties  \\\n",
       "count  73059.000000   73059.000000  73059.000000  71615.000000  73059.000000   \n",
       "mean      60.114469      51.990501     54.391040     57.200991     54.021407   \n",
       "std       16.082722      19.043011     18.597577     14.929767     15.750907   \n",
       "min        8.000000       1.000000      2.000000      1.000000      2.000000   \n",
       "25%       50.000000      35.000000     43.000000     48.000000     44.000000   \n",
       "50%       63.000000      56.000000     58.000000     59.000000     56.000000   \n",
       "75%       72.000000      67.000000     68.000000     68.000000     66.000000   \n",
       "max       97.000000      96.000000     96.000000     97.000000     96.000000   \n",
       "\n",
       "            marking  standing_tackle  sliding_tackle     gk_diving  \\\n",
       "count  73059.000000     73059.000000    71615.000000  73059.000000   \n",
       "mean      46.490891        49.674783       47.513175     15.124434   \n",
       "std       21.272933        21.446403       21.687854     17.517688   \n",
       "min        1.000000         1.000000        2.000000      1.000000   \n",
       "25%       25.000000        28.000000       25.000000      7.000000   \n",
       "50%       50.000000        55.000000       53.000000     10.000000   \n",
       "75%       65.000000        68.000000       66.000000     13.000000   \n",
       "max       94.000000        95.000000       95.000000     94.000000   \n",
       "\n",
       "        gk_handling    gk_kicking  gk_positioning   gk_reflexes  \n",
       "count  73059.000000  73059.000000    73059.000000  73059.000000  \n",
       "mean      17.611287     24.783586       17.683557     18.021298  \n",
       "std       16.341745     23.368241       16.539693     17.636146  \n",
       "min        1.000000      1.000000        1.000000      1.000000  \n",
       "25%        9.000000      9.000000        9.000000      9.000000  \n",
       "50%       12.000000     12.000000       12.000000     12.000000  \n",
       "75%       21.000000     47.000000       21.000000     21.000000  \n",
       "max       92.000000     97.000000       96.000000     96.000000  "
      ]
     },
     "execution_count": 17,
     "metadata": {},
     "output_type": "execute_result"
    }
   ],
   "source": [
    "Player_Attributes.describe()"
   ]
  },
  {
   "cell_type": "code",
   "execution_count": 18,
   "metadata": {},
   "outputs": [
    {
     "data": {
      "image/png": "[encoded data removed]",
      "text/plain": [
       "<Figure size 720x288 with 2 Axes>"
      ]
     },
     "metadata": {
      "needs_background": "light"
     },
     "output_type": "display_data"
    }
   ],
   "source": [
    "fig, ((ax1,ax2))=plt.subplots(ncols=2,nrows=1,figsize=(10,4))\n",
    "\n",
    "sns.distplot(Player_Attributes['overall_rating'],ax=ax1);\n",
    "sns.distplot(Player_Attributes['potential'],ax=ax2);"
   ]
  },
  {
   "cell_type": "markdown",
   "metadata": {},
   "source": [
    "Goalkeeper Attributes:"
   ]
  },
  {
   "cell_type": "code",
   "execution_count": null,
   "metadata": {},
   "outputs": [
    {
     "data": {
      "image/png": "[encoded data removed]",
      "text/plain": [
       "<Figure size 1080x360 with 5 Axes>"
      ]
     },
     "metadata": {
      "needs_background": "light"
     },
     "output_type": "display_data"
    }
   ],
   "source": [
    "fig, ((ax1,ax2,ax3,ax4,ax5))=plt.subplots(ncols=5,nrows=1,figsize=(15,5))\n",
    "\n",
    "sns.distplot(Player_Attributes['gk_diving'],ax=ax1);\n",
    "sns.distplot(Player_Attributes['gk_handling'],ax=ax2);\n",
    "sns.distplot(Player_Attributes['gk_kicking'],ax=ax3);\n",
    "sns.distplot(Player_Attributes['gk_positioning'],ax=ax4);\n",
    "sns.distplot(Player_Attributes['gk_reflexes'],ax=ax5);"
   ]
  },
  {
   "cell_type": "markdown",
   "metadata": {},
   "source": [
    "Defensive Attributes:"
   ]
  },
  {
   "cell_type": "code",
   "execution_count": null,
   "metadata": {},
   "outputs": [
    {
     "data": {
      "image/png": "[encoded data removed]",
      "text/plain": [
       "<Figure size 1080x360 with 5 Axes>"
      ]
     },
     "metadata": {
      "needs_background": "light"
     },
     "output_type": "display_data"
    }
   ],
   "source": [
    "fig, ((ax1,ax2,ax3,ax4,ax5))=plt.subplots(ncols=5,nrows=1,figsize=(15,5))\n",
    "\n",
    "sns.distplot(Player_Attributes['aggression'],ax=ax1);\n",
    "sns.distplot(Player_Attributes['standing_tackle'],ax=ax2);\n",
    "sns.distplot(Player_Attributes['marking'],ax=ax3);\n",
    "sns.distplot(Player_Attributes['positioning'],ax=ax4);\n",
    "sns.distplot(Player_Attributes['interceptions'],ax=ax5);"
   ]
  },
  {
   "cell_type": "markdown",
   "metadata": {},
   "source": [
    "Midfielder Attributes:"
   ]
  },
  {
   "cell_type": "code",
   "execution_count": null,
   "metadata": {
    "scrolled": true
   },
   "outputs": [
    {
     "data": {
      "image/png": "[encoded data removed]",
      "text/plain": [
       "<Figure size 1080x360 with 5 Axes>"
      ]
     },
     "metadata": {
      "needs_background": "light"
     },
     "output_type": "display_data"
    }
   ],
   "source": [
    "fig, ((ax1,ax2,ax3,ax4,ax5))=plt.subplots(ncols=5,nrows=1,figsize=(15,5))\n",
    "\n",
    "sns.distplot(Player_Attributes['short_passing'],ax=ax1);\n",
    "sns.distplot(Player_Attributes['reactions'],ax=ax2);\n",
    "sns.distplot(Player_Attributes['dribbling'],ax=ax3);\n",
    "sns.distplot(Player_Attributes['long_passing'],ax=ax4);\n",
    "sns.distplot(Player_Attributes['ball_control'],ax=ax5);"
   ]
  },
  {
   "cell_type": "markdown",
   "metadata": {},
   "source": [
    "Striker Attributes:"
   ]
  },
  {
   "cell_type": "code",
   "execution_count": null,
   "metadata": {
    "scrolled": true
   },
   "outputs": [
    {
     "data": {
      "image/png": "[encoded data removed]",
      "text/plain": [
       "<Figure size 1080x360 with 5 Axes>"
      ]
     },
     "metadata": {
      "needs_background": "light"
     },
     "output_type": "display_data"
    }
   ],
   "source": [
    "fig, ((ax1,ax2,ax3,ax4,ax5))=plt.subplots(ncols=5,nrows=1,figsize=(15,5))\n",
    "\n",
    "sns.distplot(Player_Attributes['acceleration'],ax=ax1);\n",
    "sns.distplot(Player_Attributes['sprint_speed'],ax=ax2);\n",
    "sns.distplot(Player_Attributes['shot_power'],ax=ax3);\n",
    "sns.distplot(Player_Attributes['free_kick_accuracy'],ax=ax4);\n",
    "sns.distplot(Player_Attributes['finishing'],ax=ax5);"
   ]
  },
  {
   "cell_type": "markdown",
   "metadata": {},
   "source": [
    "<a id='Player_Features'></a>\n",
    "#### Breaking out Player Attributes  by position into seperate dataframes.\n",
    "\n",
    "As can be seen from the distribution of the features above. Some features have very similiar distributions thus including similiar features will not increase the predictive power of our model. Instead I choose certain position specific features instead. \n",
    "\n",
    "* Goalkeeper features: Overall rating & diving\n",
    "* Defender features: Overall rating, positioning, interceptions\n",
    "* Midfielder features: Overall rating, short passing\n",
    "* Striker: Overall rating, finishing, sprint speed"
   ]
  },
  {
   "cell_type": "code",
   "execution_count": null,
   "metadata": {},
   "outputs": [],
   "source": [
    "Player_Attributes_gk = Player_Attributes[['player_api_id','date','overall_rating','gk_diving']]\n",
    "\n",
    "Player_Attributes_def = Player_Attributes[['player_api_id','date','overall_rating','positioning',\\\n",
    "                                           'interceptions']]\n",
    "\n",
    "Player_Attributes_mid = Player_Attributes[['player_api_id', 'date', 'overall_rating', 'short_passing']]\n",
    "\n",
    "Player_Attributes_str = Player_Attributes[['player_api_id', 'date', 'overall_rating', 'finishing','sprint_speed']]"
   ]
  },
  {
   "cell_type": "markdown",
   "metadata": {},
   "source": [
    "Creating Player Attributes dataframes for certain time periods to merge on matches during those times.\n",
    "\n",
    "1. 2008-2011 \n",
    "2. 2012-2014\n",
    "3. 2015-2016"
   ]
  },
  {
   "cell_type": "code",
   "execution_count": null,
   "metadata": {},
   "outputs": [],
   "source": [
    "#Creating df's by year for goalkeepers\n",
    "Player_Attributes_2008_2011_gk = Player_Attributes_gk[(Player_Attributes_gk['date']==2008) |\n",
    "                                                      (Player_Attributes_gk['date']==2009) | \n",
    "                                                      (Player_Attributes_gk['date']==2010) | \n",
    "                                                      (Player_Attributes_gk['date']==2011)|\n",
    "                                                     (Player_Attributes_gk['date']==2012)].sort_values(by = 'date', ascending = False)\\\n",
    "                                                        .drop_duplicates(subset=['player_api_id'])\n",
    "\n",
    "\n",
    "Player_Attributes_2012_2014_gk = Player_Attributes_gk[(Player_Attributes_gk['date']==2012) |\n",
    "                                                      (Player_Attributes_gk['date']==2013) | \n",
    "                                                      (Player_Attributes_gk['date']==2014) |\n",
    "                                                      (Player_Attributes_gk['date']==2015) ].sort_values(by = 'date', ascending = False)\\\n",
    "                                                        .drop_duplicates(subset=['player_api_id'])\n",
    "\n",
    "    \n",
    "Player_Attributes_2015_2016_gk = Player_Attributes_gk[(Player_Attributes_gk['date']==2014) |\n",
    "                                                      (Player_Attributes_gk['date']==2015) |\n",
    "                                                     (Player_Attributes_gk['date']==2016)].sort_values(by = 'date', ascending = False)\\\n",
    "                                                        .drop_duplicates(subset=['player_api_id'])\n",
    "\n",
    "\n",
    "#Creating df's by year for defenders\n",
    "Player_Attributes_2008_2011_def = Player_Attributes_def[(Player_Attributes_def['date']==2008) |\n",
    "                                                      (Player_Attributes_def['date']==2009) | \n",
    "                                                      (Player_Attributes_def['date']==2010) | \n",
    "                                                      (Player_Attributes_def['date']==2011)|\n",
    "                                                       (Player_Attributes_def['date']==2012)].sort_values(by = 'date', ascending = False)\\\n",
    "                                                        .drop_duplicates(subset=['player_api_id'])\n",
    "\n",
    "\n",
    "Player_Attributes_2012_2014_def = Player_Attributes_def[(Player_Attributes_def['date']==2012) |\n",
    "                                                      (Player_Attributes_def['date']==2013) | \n",
    "                                                      (Player_Attributes_def['date']==2014)|\n",
    "                                                      (Player_Attributes_def['date']==2015)].sort_values(by = 'date', ascending = False)\\\n",
    "                                                        .drop_duplicates(subset=['player_api_id'])\n",
    "\n",
    "                                                      \n",
    "Player_Attributes_2015_2016_def = Player_Attributes_def[(Player_Attributes_def['date']==2014) |\n",
    "                                                        (Player_Attributes_def['date']==2015) |\n",
    "                                                        (Player_Attributes_def['date']==2016) ].sort_values(by = 'date', ascending = False)\\\n",
    "                                                        .drop_duplicates(subset=['player_api_id'])\n",
    "\n",
    "\n",
    "#Creating df's by year for mid\n",
    "Player_Attributes_2008_2011_mid = Player_Attributes_mid[(Player_Attributes_mid['date']==2008) |\n",
    "                                                      (Player_Attributes_mid['date']==2009) | \n",
    "                                                      (Player_Attributes_mid['date']==2010) | \n",
    "                                                      (Player_Attributes_mid['date']==2011)|\n",
    "                                                       (Player_Attributes_mid['date']==2012)].sort_values(by = 'date', ascending = False)\\\n",
    "                                                        .drop_duplicates(subset=['player_api_id'])\n",
    "\n",
    "Player_Attributes_2012_2014_mid = Player_Attributes_mid[(Player_Attributes_mid['date']==2012) |\n",
    "                                                      (Player_Attributes_mid['date']==2013) | \n",
    "                                                      (Player_Attributes_mid['date']==2014) |\n",
    "                                                       (Player_Attributes_mid['date']==2015)].sort_values(by = 'date', ascending = False)\\\n",
    "                                                        .drop_duplicates(subset=['player_api_id'])\n",
    "                                                      \n",
    "Player_Attributes_2015_2016_mid = Player_Attributes_mid[(Player_Attributes_mid['date']==2014) |\n",
    "                                                      (Player_Attributes_mid['date']==2015) |\n",
    "                                                       (Player_Attributes_mid['date']==2016)].sort_values(by = 'date', ascending = False)\\\n",
    "                                                        .drop_duplicates(subset=['player_api_id'])\n",
    "\n",
    "#Creating df's by year for str\n",
    "Player_Attributes_2008_2011_str = Player_Attributes_str[(Player_Attributes_str['date']==2008) |\n",
    "                                                      (Player_Attributes_str['date']==2009) | \n",
    "                                                      (Player_Attributes_str['date']==2010) | \n",
    "                                                      (Player_Attributes_str['date']==2011)|\n",
    "                                                        (Player_Attributes_str['date']==2012)].sort_values(by = 'date', ascending = False)\\\n",
    "                                                    .drop_duplicates(subset=['player_api_id'])\n",
    "\n",
    "Player_Attributes_2012_2014_str = Player_Attributes_str[(Player_Attributes_str['date']==2012) |\n",
    "                                                      (Player_Attributes_str['date']==2013) | \n",
    "                                                      (Player_Attributes_str['date']==2014) |\n",
    "                                                       (Player_Attributes_str['date']==2014)].sort_values(by = 'date', ascending = False)\\\n",
    "                                                        .drop_duplicates(subset=['player_api_id']) \n",
    "                                                      \n",
    "Player_Attributes_2015_2016_str = Player_Attributes_str[(Player_Attributes_str['date']==2014) |\n",
    "                                                      (Player_Attributes_str['date']==2015)| \n",
    "                                                       (Player_Attributes_str['date']==2016)].sort_values(by = 'date', ascending = False)\\\n",
    "                                                        .drop_duplicates(subset=['player_api_id'])\n",
    "\n"
   ]
  },
  {
   "cell_type": "markdown",
   "metadata": {},
   "source": [
    "Creating dataframes for certain time periods to merge onto Player Attributes for the same time period"
   ]
  },
  {
   "cell_type": "code",
   "execution_count": null,
   "metadata": {},
   "outputs": [],
   "source": [
    "Match_2008_2011 = Match[(Match['date_year']==2008)|(Match['date_year']==2009)| (Match['date_year']==2010)|\n",
    "                       (Match['date_year']==2011)]\n",
    "\n",
    "Match_2012_2014 = Match[(Match['date_year']==2012)| (Match['date_year']==2013)| (Match['date_year']==2014)]\n",
    "\n",
    "Match_2015_2016  = Match[(Match['date_year']==2015)| (Match['date_year']==2016)]\n"
   ]
  },
  {
   "cell_type": "markdown",
   "metadata": {},
   "source": [
    "<a id='Merging1'></a>\n",
    "Merging Player Attributes by position onto Match dataframes\n",
    "\n",
    "Player 1: Goalkeeper\n",
    "\n",
    "Player 2-5: Defender\n",
    "\n",
    "Player 6-9: Midfielder\n",
    "\n",
    "Player 10-11: Forwards"
   ]
  },
  {
   "cell_type": "code",
   "execution_count": null,
   "metadata": {},
   "outputs": [],
   "source": [
    "#2008 - #2011 \n",
    "\n",
    "#Goalkeeper \n",
    "Match_2008_2011  = Match_2008_2011.merge(Player_Attributes_2008_2011_gk, how = 'left',left_on='home_player_1',right_on = 'player_api_id')\n",
    "#Defenders\n",
    "Match_2008_2011  = Match_2008_2011.merge(Player_Attributes_2008_2011_def, how = 'left',left_on='home_player_2',right_on = 'player_api_id')\n",
    "Match_2008_2011  = Match_2008_2011.merge(Player_Attributes_2008_2011_def, how = 'left',left_on='home_player_3',right_on = 'player_api_id')\n",
    "Match_2008_2011  = Match_2008_2011.merge(Player_Attributes_2008_2011_def, how = 'left',left_on='home_player_4',right_on = 'player_api_id')\n",
    "Match_2008_2011  = Match_2008_2011.merge(Player_Attributes_2008_2011_def, how = 'left',left_on='home_player_5',right_on = 'player_api_id')\n",
    "#Midfielders\n",
    "Match_2008_2011  = Match_2008_2011.merge(Player_Attributes_2008_2011_mid, how = 'left',left_on='home_player_6',right_on = 'player_api_id')\n",
    "Match_2008_2011  = Match_2008_2011.merge(Player_Attributes_2008_2011_mid, how = 'left',left_on='home_player_7',right_on = 'player_api_id')\n",
    "Match_2008_2011  = Match_2008_2011.merge(Player_Attributes_2008_2011_mid, how = 'left',left_on='home_player_8',right_on = 'player_api_id')\n",
    "Match_2008_2011  = Match_2008_2011.merge(Player_Attributes_2008_2011_mid, how = 'left',left_on='home_player_9',right_on = 'player_api_id')\n",
    "#Strikers\n",
    "Match_2008_2011  = Match_2008_2011.merge(Player_Attributes_2008_2011_str, how = 'left',left_on='home_player_10',right_on = 'player_api_id')\n",
    "Match_2008_2011  = Match_2008_2011.merge(Player_Attributes_2008_2011_str, how = 'left',left_on='home_player_11',right_on = 'player_api_id')\n",
    "\n",
    "\n",
    "#Goalkeeper\n",
    "Match_2008_2011 = Match_2008_2011.merge(Player_Attributes_2008_2011_gk, how = 'left',left_on='away_player_1',right_on = 'player_api_id')\n",
    "#Defenders\n",
    "Match_2008_2011 = Match_2008_2011.merge(Player_Attributes_2008_2011_def, how = 'left',left_on='away_player_2',right_on = 'player_api_id')\n",
    "Match_2008_2011  = Match_2008_2011.merge(Player_Attributes_2008_2011_def, how = 'left',left_on='away_player_3',right_on = 'player_api_id')\n",
    "Match_2008_2011  = Match_2008_2011.merge(Player_Attributes_2008_2011_def, how = 'left',left_on='away_player_4',right_on = 'player_api_id')\n",
    "Match_2008_2011  = Match_2008_2011.merge(Player_Attributes_2008_2011_def, how = 'left',left_on='away_player_5',right_on = 'player_api_id')\n",
    "#Midfielders\n",
    "Match_2008_2011  = Match_2008_2011.merge(Player_Attributes_2008_2011_mid, how = 'left',left_on='away_player_6',right_on = 'player_api_id')\n",
    "Match_2008_2011  = Match_2008_2011.merge(Player_Attributes_2008_2011_mid, how = 'left',left_on='away_player_7',right_on = 'player_api_id')\n",
    "Match_2008_2011  = Match_2008_2011.merge(Player_Attributes_2008_2011_mid, how = 'left',left_on='away_player_8',right_on = 'player_api_id')\n",
    "Match_2008_2011  = Match_2008_2011.merge(Player_Attributes_2008_2011_mid, how = 'left',left_on='away_player_9',right_on = 'player_api_id')\n",
    "#Strikers\n",
    "Match_2008_2011  = Match_2008_2011.merge(Player_Attributes_2008_2011_str, how = 'left',left_on='away_player_10',right_on = 'player_api_id')\n",
    "Match_2008_2011  = Match_2008_2011.merge(Player_Attributes_2008_2011_str, how = 'left',left_on='away_player_11',right_on = 'player_api_id')"
   ]
  },
  {
   "cell_type": "code",
   "execution_count": null,
   "metadata": {},
   "outputs": [],
   "source": [
    "#2012 - #2014 \n",
    "\n",
    "#Goalkeeper \n",
    "Match_2012_2014  = Match_2012_2014.merge(Player_Attributes_2012_2014_gk, how = 'left',left_on='home_player_1',right_on = 'player_api_id')\n",
    "#Defenders\n",
    "Match_2012_2014  = Match_2012_2014.merge(Player_Attributes_2012_2014_def, how = 'left',left_on='home_player_2',right_on = 'player_api_id')\n",
    "Match_2012_2014  = Match_2012_2014.merge(Player_Attributes_2012_2014_def, how = 'left',left_on='home_player_3',right_on = 'player_api_id')\n",
    "Match_2012_2014  = Match_2012_2014.merge(Player_Attributes_2012_2014_def, how = 'left',left_on='home_player_4',right_on = 'player_api_id')\n",
    "Match_2012_2014  = Match_2012_2014.merge(Player_Attributes_2012_2014_def, how = 'left',left_on='home_player_5',right_on = 'player_api_id')\n",
    "#Midfielders\n",
    "Match_2012_2014  = Match_2012_2014.merge(Player_Attributes_2012_2014_mid, how = 'left',left_on='home_player_6',right_on = 'player_api_id')\n",
    "Match_2012_2014  = Match_2012_2014.merge(Player_Attributes_2012_2014_mid, how = 'left',left_on='home_player_7',right_on = 'player_api_id')\n",
    "Match_2012_2014  = Match_2012_2014.merge(Player_Attributes_2012_2014_mid, how = 'left',left_on='home_player_8',right_on = 'player_api_id')\n",
    "Match_2012_2014  = Match_2012_2014.merge(Player_Attributes_2012_2014_mid, how = 'left',left_on='home_player_9',right_on = 'player_api_id')\n",
    "#Strikers\n",
    "Match_2012_2014  = Match_2012_2014.merge(Player_Attributes_2012_2014_str, how = 'left',left_on='home_player_10',right_on = 'player_api_id')\n",
    "Match_2012_2014  = Match_2012_2014.merge(Player_Attributes_2012_2014_str, how = 'left',left_on='home_player_11',right_on = 'player_api_id')\n",
    "\n",
    "\n",
    "#Goalkeeper \n",
    "Match_2012_2014  = Match_2012_2014.merge(Player_Attributes_2012_2014_gk, how = 'left',left_on='away_player_1',right_on = 'player_api_id')\n",
    "#Defenders\n",
    "Match_2012_2014  = Match_2012_2014.merge(Player_Attributes_2012_2014_def, how = 'left',left_on='away_player_2',right_on = 'player_api_id')\n",
    "Match_2012_2014  = Match_2012_2014.merge(Player_Attributes_2012_2014_def, how = 'left',left_on='away_player_3',right_on = 'player_api_id')\n",
    "Match_2012_2014  = Match_2012_2014.merge(Player_Attributes_2012_2014_def, how = 'left',left_on='away_player_4',right_on = 'player_api_id')\n",
    "Match_2012_2014  = Match_2012_2014.merge(Player_Attributes_2012_2014_def, how = 'left',left_on='away_player_5',right_on = 'player_api_id')\n",
    "#Midfielders\n",
    "Match_2012_2014  = Match_2012_2014.merge(Player_Attributes_2012_2014_mid, how = 'left',left_on='away_player_6',right_on = 'player_api_id')\n",
    "Match_2012_2014  = Match_2012_2014.merge(Player_Attributes_2012_2014_mid, how = 'left',left_on='away_player_7',right_on = 'player_api_id')\n",
    "Match_2012_2014  = Match_2012_2014.merge(Player_Attributes_2012_2014_mid, how = 'left',left_on='away_player_8',right_on = 'player_api_id')\n",
    "Match_2012_2014  = Match_2012_2014.merge(Player_Attributes_2012_2014_mid, how = 'left',left_on='away_player_9',right_on = 'player_api_id')\n",
    "#Strikers\n",
    "Match_2012_2014  = Match_2012_2014.merge(Player_Attributes_2012_2014_str, how = 'left',left_on='away_player_10',right_on = 'player_api_id')\n",
    "Match_2012_2014  = Match_2012_2014.merge(Player_Attributes_2012_2014_str, how = 'left',left_on='away_player_11',right_on = 'player_api_id')\n"
   ]
  },
  {
   "cell_type": "code",
   "execution_count": null,
   "metadata": {},
   "outputs": [],
   "source": [
    "#2015 - #2016\n",
    "\n",
    "#Goalkeeper \n",
    "Match_2015_2016  = Match_2015_2016.merge(Player_Attributes_2015_2016_gk, how = 'left',left_on='home_player_1',right_on = 'player_api_id')\n",
    "\n",
    "Match_2015_2016  = Match_2015_2016.merge(Player_Attributes_2015_2016_def, how = 'left',left_on='home_player_2',right_on = 'player_api_id')\n",
    "Match_2015_2016  = Match_2015_2016.merge(Player_Attributes_2015_2016_def, how = 'left',left_on='home_player_3',right_on = 'player_api_id')\n",
    "Match_2015_2016  = Match_2015_2016.merge(Player_Attributes_2015_2016_def, how = 'left',left_on='home_player_4',right_on = 'player_api_id')\n",
    "Match_2015_2016  = Match_2015_2016.merge(Player_Attributes_2015_2016_def, how = 'left',left_on='home_player_5',right_on = 'player_api_id')\n",
    "#Midfielders\n",
    "Match_2015_2016  = Match_2015_2016.merge(Player_Attributes_2015_2016_mid, how = 'left',left_on='home_player_6',right_on = 'player_api_id')\n",
    "Match_2015_2016  = Match_2015_2016.merge(Player_Attributes_2015_2016_mid, how = 'left',left_on='home_player_7',right_on = 'player_api_id')\n",
    "Match_2015_2016  = Match_2015_2016.merge(Player_Attributes_2015_2016_mid, how = 'left',left_on='home_player_8',right_on = 'player_api_id')\n",
    "Match_2015_2016  = Match_2015_2016.merge(Player_Attributes_2015_2016_mid, how = 'left',left_on='home_player_9',right_on = 'player_api_id')\n",
    "#Strikers\n",
    "Match_2015_2016  = Match_2015_2016.merge(Player_Attributes_2015_2016_str, how = 'left',left_on='home_player_10',right_on = 'player_api_id')\n",
    "Match_2015_2016  = Match_2015_2016.merge(Player_Attributes_2015_2016_str, how = 'left',left_on='home_player_11',right_on = 'player_api_id')\n",
    "\n",
    "\n",
    "#Goalkeeper \n",
    "Match_2015_2016  = Match_2015_2016.merge(Player_Attributes_2015_2016_gk, how = 'left',left_on='away_player_1',right_on = 'player_api_id')\n",
    "#Defenders\n",
    "Match_2015_2016  = Match_2015_2016.merge(Player_Attributes_2015_2016_def, how = 'left',left_on='away_player_2',right_on = 'player_api_id')\n",
    "Match_2015_2016  = Match_2015_2016.merge(Player_Attributes_2015_2016_def, how = 'left',left_on='away_player_3',right_on = 'player_api_id')\n",
    "Match_2015_2016  = Match_2015_2016.merge(Player_Attributes_2015_2016_def, how = 'left',left_on='away_player_4',right_on = 'player_api_id')\n",
    "Match_2015_2016  = Match_2015_2016.merge(Player_Attributes_2015_2016_def, how = 'left',left_on='away_player_5',right_on = 'player_api_id')\n",
    "#Midfielders\n",
    "Match_2015_2016  = Match_2015_2016.merge(Player_Attributes_2015_2016_mid, how = 'left',left_on='away_player_6',right_on = 'player_api_id')\n",
    "Match_2015_2016  = Match_2015_2016.merge(Player_Attributes_2015_2016_mid, how = 'left',left_on='away_player_7',right_on = 'player_api_id')\n",
    "Match_2015_2016  = Match_2015_2016.merge(Player_Attributes_2015_2016_mid, how = 'left',left_on='away_player_8',right_on = 'player_api_id')\n",
    "Match_2015_2016  = Match_2015_2016.merge(Player_Attributes_2015_2016_mid, how = 'left',left_on='away_player_9',right_on = 'player_api_id')\n",
    "#Strikers\n",
    "Match_2015_2016  = Match_2015_2016.merge(Player_Attributes_2015_2016_str, how = 'left',left_on='away_player_10',right_on = 'player_api_id')\n",
    "Match_2015_2016  = Match_2015_2016.merge(Player_Attributes_2015_2016_str, how = 'left',left_on='away_player_11',right_on = 'player_api_id')\n"
   ]
  },
  {
   "cell_type": "markdown",
   "metadata": {},
   "source": [
    "<a id='Team_Features'></a>\n",
    "\n",
    "#### Team Attributes Cleaning, Pre-processing and Selection"
   ]
  },
  {
   "cell_type": "code",
   "execution_count": null,
   "metadata": {},
   "outputs": [
    {
     "data": {
      "text/html": [
       "<div>\n",
       "<style scoped>\n",
       "    .dataframe tbody tr th:only-of-type {\n",
       "        vertical-align: middle;\n",
       "    }\n",
       "\n",
       "    .dataframe tbody tr th {\n",
       "        vertical-align: top;\n",
       "    }\n",
       "\n",
       "    .dataframe thead th {\n",
       "        text-align: right;\n",
       "    }\n",
       "</style>\n",
       "<table border=\"1\" class=\"dataframe\">\n",
       "  <thead>\n",
       "    <tr style=\"text-align: right;\">\n",
       "      <th></th>\n",
       "      <th>id</th>\n",
       "      <th>team_fifa_api_id</th>\n",
       "      <th>team_api_id</th>\n",
       "      <th>date</th>\n",
       "      <th>buildUpPlaySpeed</th>\n",
       "      <th>buildUpPlayDribbling</th>\n",
       "      <th>buildUpPlayPassing</th>\n",
       "      <th>chanceCreationPassing</th>\n",
       "      <th>chanceCreationCrossing</th>\n",
       "      <th>chanceCreationShooting</th>\n",
       "      <th>defencePressure</th>\n",
       "      <th>defenceAggression</th>\n",
       "      <th>defenceTeamWidth</th>\n",
       "    </tr>\n",
       "  </thead>\n",
       "  <tbody>\n",
       "    <tr>\n",
       "      <th>count</th>\n",
       "      <td>1458.000000</td>\n",
       "      <td>1458.000000</td>\n",
       "      <td>1458.000000</td>\n",
       "      <td>1458.000000</td>\n",
       "      <td>1458.000000</td>\n",
       "      <td>489.000000</td>\n",
       "      <td>1458.000000</td>\n",
       "      <td>1458.000000</td>\n",
       "      <td>1458.000000</td>\n",
       "      <td>1458.000000</td>\n",
       "      <td>1458.000000</td>\n",
       "      <td>1458.000000</td>\n",
       "      <td>1458.000000</td>\n",
       "    </tr>\n",
       "    <tr>\n",
       "      <th>mean</th>\n",
       "      <td>729.500000</td>\n",
       "      <td>17706.982167</td>\n",
       "      <td>9995.727023</td>\n",
       "      <td>2012.506859</td>\n",
       "      <td>52.462277</td>\n",
       "      <td>48.607362</td>\n",
       "      <td>48.490398</td>\n",
       "      <td>52.165295</td>\n",
       "      <td>53.731824</td>\n",
       "      <td>53.969136</td>\n",
       "      <td>46.017147</td>\n",
       "      <td>49.251029</td>\n",
       "      <td>52.185871</td>\n",
       "    </tr>\n",
       "    <tr>\n",
       "      <th>std</th>\n",
       "      <td>421.032659</td>\n",
       "      <td>39179.857739</td>\n",
       "      <td>13264.869900</td>\n",
       "      <td>1.709201</td>\n",
       "      <td>11.545869</td>\n",
       "      <td>9.678290</td>\n",
       "      <td>10.896101</td>\n",
       "      <td>10.360793</td>\n",
       "      <td>11.086796</td>\n",
       "      <td>10.327566</td>\n",
       "      <td>10.227225</td>\n",
       "      <td>9.738028</td>\n",
       "      <td>9.574712</td>\n",
       "    </tr>\n",
       "    <tr>\n",
       "      <th>min</th>\n",
       "      <td>1.000000</td>\n",
       "      <td>1.000000</td>\n",
       "      <td>1601.000000</td>\n",
       "      <td>2010.000000</td>\n",
       "      <td>20.000000</td>\n",
       "      <td>24.000000</td>\n",
       "      <td>20.000000</td>\n",
       "      <td>21.000000</td>\n",
       "      <td>20.000000</td>\n",
       "      <td>22.000000</td>\n",
       "      <td>23.000000</td>\n",
       "      <td>24.000000</td>\n",
       "      <td>29.000000</td>\n",
       "    </tr>\n",
       "    <tr>\n",
       "      <th>25%</th>\n",
       "      <td>365.250000</td>\n",
       "      <td>110.000000</td>\n",
       "      <td>8457.750000</td>\n",
       "      <td>2011.000000</td>\n",
       "      <td>45.000000</td>\n",
       "      <td>42.000000</td>\n",
       "      <td>40.000000</td>\n",
       "      <td>46.000000</td>\n",
       "      <td>47.000000</td>\n",
       "      <td>48.000000</td>\n",
       "      <td>39.000000</td>\n",
       "      <td>44.000000</td>\n",
       "      <td>47.000000</td>\n",
       "    </tr>\n",
       "    <tr>\n",
       "      <th>50%</th>\n",
       "      <td>729.500000</td>\n",
       "      <td>485.000000</td>\n",
       "      <td>8674.000000</td>\n",
       "      <td>2013.000000</td>\n",
       "      <td>52.000000</td>\n",
       "      <td>49.000000</td>\n",
       "      <td>50.000000</td>\n",
       "      <td>52.000000</td>\n",
       "      <td>53.000000</td>\n",
       "      <td>53.000000</td>\n",
       "      <td>45.000000</td>\n",
       "      <td>48.000000</td>\n",
       "      <td>52.000000</td>\n",
       "    </tr>\n",
       "    <tr>\n",
       "      <th>75%</th>\n",
       "      <td>1093.750000</td>\n",
       "      <td>1900.000000</td>\n",
       "      <td>9904.000000</td>\n",
       "      <td>2014.000000</td>\n",
       "      <td>62.000000</td>\n",
       "      <td>55.000000</td>\n",
       "      <td>55.000000</td>\n",
       "      <td>59.000000</td>\n",
       "      <td>62.000000</td>\n",
       "      <td>61.000000</td>\n",
       "      <td>51.000000</td>\n",
       "      <td>55.000000</td>\n",
       "      <td>58.000000</td>\n",
       "    </tr>\n",
       "    <tr>\n",
       "      <th>max</th>\n",
       "      <td>1458.000000</td>\n",
       "      <td>112513.000000</td>\n",
       "      <td>274581.000000</td>\n",
       "      <td>2015.000000</td>\n",
       "      <td>80.000000</td>\n",
       "      <td>77.000000</td>\n",
       "      <td>80.000000</td>\n",
       "      <td>80.000000</td>\n",
       "      <td>80.000000</td>\n",
       "      <td>80.000000</td>\n",
       "      <td>72.000000</td>\n",
       "      <td>72.000000</td>\n",
       "      <td>73.000000</td>\n",
       "    </tr>\n",
       "  </tbody>\n",
       "</table>\n",
       "</div>"
      ],
      "text/plain": [
       "                id  team_fifa_api_id    team_api_id         date  \\\n",
       "count  1458.000000       1458.000000    1458.000000  1458.000000   \n",
       "mean    729.500000      17706.982167    9995.727023  2012.506859   \n",
       "std     421.032659      39179.857739   13264.869900     1.709201   \n",
       "min       1.000000          1.000000    1601.000000  2010.000000   \n",
       "25%     365.250000        110.000000    8457.750000  2011.000000   \n",
       "50%     729.500000        485.000000    8674.000000  2013.000000   \n",
       "75%    1093.750000       1900.000000    9904.000000  2014.000000   \n",
       "max    1458.000000     112513.000000  274581.000000  2015.000000   \n",
       "\n",
       "       buildUpPlaySpeed  buildUpPlayDribbling  buildUpPlayPassing  \\\n",
       "count       1458.000000            489.000000         1458.000000   \n",
       "mean          52.462277             48.607362           48.490398   \n",
       "std           11.545869              9.678290           10.896101   \n",
       "min           20.000000             24.000000           20.000000   \n",
       "25%           45.000000             42.000000           40.000000   \n",
       "50%           52.000000             49.000000           50.000000   \n",
       "75%           62.000000             55.000000           55.000000   \n",
       "max           80.000000             77.000000           80.000000   \n",
       "\n",
       "       chanceCreationPassing  chanceCreationCrossing  chanceCreationShooting  \\\n",
       "count            1458.000000             1458.000000             1458.000000   \n",
       "mean               52.165295               53.731824               53.969136   \n",
       "std                10.360793               11.086796               10.327566   \n",
       "min                21.000000               20.000000               22.000000   \n",
       "25%                46.000000               47.000000               48.000000   \n",
       "50%                52.000000               53.000000               53.000000   \n",
       "75%                59.000000               62.000000               61.000000   \n",
       "max                80.000000               80.000000               80.000000   \n",
       "\n",
       "       defencePressure  defenceAggression  defenceTeamWidth  \n",
       "count      1458.000000        1458.000000       1458.000000  \n",
       "mean         46.017147          49.251029         52.185871  \n",
       "std          10.227225           9.738028          9.574712  \n",
       "min          23.000000          24.000000         29.000000  \n",
       "25%          39.000000          44.000000         47.000000  \n",
       "50%          45.000000          48.000000         52.000000  \n",
       "75%          51.000000          55.000000         58.000000  \n",
       "max          72.000000          72.000000         73.000000  "
      ]
     },
     "execution_count": 29,
     "metadata": {},
     "output_type": "execute_result"
    }
   ],
   "source": [
    "Team_Attributes.describe()"
   ]
  },
  {
   "cell_type": "code",
   "execution_count": null,
   "metadata": {},
   "outputs": [],
   "source": [
    "#Drop unnecessary columns:\n",
    "Team_Attributes = Team_Attributes.drop(columns= (['id','team_fifa_api_id','buildUpPlaySpeedClass','buildUpPlayDribbling',\\\n",
    "                                                 'buildUpPlayPassingClass',\\\n",
    "                                                  'buildUpPlayPositioningClass','chanceCreationPassingClass',\\\n",
    "                                                  'chanceCreationCrossingClass','chanceCreationShootingClass',\\\n",
    "                                                  'chanceCreationPositioningClass','defencePressureClass',\\\n",
    "                                                  'defenceAggressionClass','defenceTeamWidthClass']))"
   ]
  },
  {
   "cell_type": "code",
   "execution_count": null,
   "metadata": {},
   "outputs": [],
   "source": [
    "#Encode categorical columns:\n",
    "\n",
    "Team_Attributes = pd.get_dummies(Team_Attributes)"
   ]
  },
  {
   "cell_type": "code",
   "execution_count": null,
   "metadata": {},
   "outputs": [],
   "source": [
    "Team_Attributes = Team_Attributes.sort_values(by = 'date', ascending = False).drop_duplicates(subset=['team_api_id'])"
   ]
  },
  {
   "cell_type": "markdown",
   "metadata": {},
   "source": [
    "<a id='Merging2'></a>\n",
    "#### Merging Team Attributes for home and away teams onto Match dataframes:"
   ]
  },
  {
   "cell_type": "code",
   "execution_count": null,
   "metadata": {},
   "outputs": [],
   "source": [
    "#Merging team attributes for home and away team onto Match Dataframe\n",
    "\n",
    "Match_2008_2011 = Match_2008_2011.merge(Team_Attributes, how = 'left',left_on='home_team_api_id',right_on = 'team_api_id')\n",
    "Match_2008_2011 = Match_2008_2011.merge(Team_Attributes, how = 'left',left_on='away_team_api_id',right_on = 'team_api_id')\n",
    " \n",
    "Match_2012_2014 = Match_2012_2014.merge(Team_Attributes, how = 'left',left_on='home_team_api_id',right_on = 'team_api_id')\n",
    "Match_2012_2014 = Match_2012_2014.merge(Team_Attributes, how = 'left',left_on='away_team_api_id',right_on = 'team_api_id')\n",
    "\n",
    "Match_2015_2016 = Match_2015_2016.merge(Team_Attributes, how = 'left',left_on='home_team_api_id',right_on = 'team_api_id')\n",
    "Match_2015_2016 = Match_2015_2016.merge(Team_Attributes, how = 'left',left_on='away_team_api_id',right_on = 'team_api_id')"
   ]
  },
  {
   "cell_type": "markdown",
   "metadata": {},
   "source": [
    "## Modelling"
   ]
  },
  {
   "cell_type": "markdown",
   "metadata": {},
   "source": [
    "<a id='train'></a>\n",
    "<a id='test'></a>\n",
    "\n",
    "##### Splitting Training and Test Data for Modelling:\n",
    "\n",
    "* Training data: Matches played between years 2008 and 2014\n",
    "\n",
    "* Test data: Matches played between years 2015 and 2016"
   ]
  },
  {
   "cell_type": "code",
   "execution_count": null,
   "metadata": {},
   "outputs": [
    {
     "name": "stdout",
     "output_type": "stream",
     "text": [
      "Training dataframe shape before dropping null values: (16848, 171)\n",
      "Test dataframe shape before dropping null values: (4526, 171)\n",
      "Training dataframe shape after dropping null values: (15457, 171)\n",
      "Test dataframe shape after dropping null values: (3978, 171)\n"
     ]
    }
   ],
   "source": [
    "Train_range = [Match_2008_2011,Match_2012_2014]\n",
    "Test_range =  [Match_2015_2016]\n",
    "\n",
    "Match_Train = pd.concat(Train_range)\n",
    "print(f'Training dataframe shape before dropping null values: {Match_Train.shape}')\n",
    "\n",
    "Match_Test = pd.concat(Test_range)\n",
    "print(f'Test dataframe shape before dropping null values: {Match_Test.shape}')\n",
    "\n",
    "Match_Train = Match_Train.dropna()\n",
    "Match_Test = Match_Test.dropna()\n",
    "\n",
    "print(f'Training dataframe shape after dropping null values: {Match_Train.shape}')\n",
    "print(f'Test dataframe shape after dropping null values: {Match_Test.shape}')"
   ]
  },
  {
   "cell_type": "code",
   "execution_count": null,
   "metadata": {},
   "outputs": [
    {
     "name": "stdout",
     "output_type": "stream",
     "text": [
      "Training dataframe shape after dropping unncessary columns: (15457, 90)\n",
      "Testing dataframe shape after dropping unncessary columns: (3978, 90)\n"
     ]
    }
   ],
   "source": [
    "#Dropping unncessary columns to select features to be fed into model:\n",
    "\n",
    "#Features and labels are after Result column\n",
    "Train = (Match_Train.iloc[:,Match_Train.columns.get_loc('Result'):]).drop(['player_api_id_x','date_y',\\\n",
    "                                                                             'player_api_id_y','date_x',\\\n",
    "                                                                            'team_api_id_x','team_api_id_y',\\\n",
    "                                                                             'date'],1)\n",
    "\n",
    "\n",
    "Test = (Match_Test.iloc[:,Match_Test.columns.get_loc('Result'):]).drop(['player_api_id_x','date_y',\\\n",
    "                                                                             'player_api_id_y','date_x',\\\n",
    "                                                                            'team_api_id_x','team_api_id_y',\\\n",
    "                                                                             'date'],1)\n",
    "\n",
    "print(f'Training dataframe shape after dropping unncessary columns: {Train.shape}')\n",
    "print(f'Testing dataframe shape after dropping unncessary columns: {Test.shape}')"
   ]
  },
  {
   "cell_type": "code",
   "execution_count": null,
   "metadata": {},
   "outputs": [],
   "source": [
    "x_train = Train.iloc[:,1:]\n",
    "y_train = Train.iloc[:,0]\n",
    "x_test = Test.iloc[:,1:]\n",
    "y_test = Test.iloc[:,0]"
   ]
  },
  {
   "cell_type": "markdown",
   "metadata": {},
   "source": [
    "<a id='Log'></a>\n",
    "### Logisitic Regression:\n"
   ]
  },
  {
   "cell_type": "markdown",
   "metadata": {},
   "source": [
    "1. Create a Feature Union object for preprocessing.\n",
    "\n",
    "2. Create a Pipeline object with a preprocess attribute and a classifier attribute.\n",
    "\n",
    "3. Create a dictionary with the keys as the objects previously created and the items as the attributes for the search space during grid search.\n",
    "\n",
    "4. Create a grid search object."
   ]
  },
  {
   "cell_type": "code",
   "execution_count": null,
   "metadata": {},
   "outputs": [],
   "source": [
    "# # Create a preprocessing object that includes StandardScaler features and PCA\n",
    "\n",
    "# preprocess = FeatureUnion([(\"std\", StandardScaler()), (\"pca\", PCA()),(\"F_value\",SelectKBest(f_classif) )])\n",
    "\n",
    "# # Create a pipeline\n",
    "    \n",
    "# pipe = Pipeline([(\"preprocess\", preprocess),\n",
    "#                  (\"classifier\", LogisticRegression())])\n",
    "\n",
    "#  # Create space of candidate values\n",
    "# search_space = [{\"preprocess__pca__n_components\": [85,80],\n",
    "#                   \"preprocess__F_value__k\": [80,85],\n",
    "#                   \"classifier__penalty\": [ \"l1\",\"l2\"],\n",
    "#                   \"classifier__C\": np.logspace(-3, 2, 10)}]\n",
    "\n",
    "# # Create grid search\n",
    "# log_test_1 = GridSearchCV(pipe, search_space, cv=5, verbose=1, n_jobs=-1)\n",
    "\n",
    "# #Fit the grid search\n",
    "# log_test_1.fit(x_train,y_train)"
   ]
  },
  {
   "cell_type": "code",
   "execution_count": null,
   "metadata": {},
   "outputs": [],
   "source": [
    "log_test_1 = joblib.load('logistic_grid_search.pkl')"
   ]
  },
  {
   "cell_type": "code",
   "execution_count": null,
   "metadata": {},
   "outputs": [
    {
     "name": "stdout",
     "output_type": "stream",
     "text": [
      "Logistic Regression grid search best parameters: {'classifier__C': 0.001, 'classifier__penalty': 'l1', 'preprocess__F_value__k': 85, 'preprocess__pca__n_components': 85}\n",
      "Logistic Regression grid search best cross validation score: 0.5405964934980915\n"
     ]
    }
   ],
   "source": [
    "print(f'Logistic Regression grid search best parameters: {log_test_1.best_params_}')\n",
    "\n",
    "print(f'Logistic Regression grid search best cross validation score: {log_test_1.best_score_}')"
   ]
  },
  {
   "cell_type": "markdown",
   "metadata": {},
   "source": [
    "Fitting Logistic Regression without dimension / feature reduction as extensize feature reduction was conducted during pre-processing so no PCA or ANOVA testing done to reduce features."
   ]
  },
  {
   "cell_type": "code",
   "execution_count": null,
   "metadata": {},
   "outputs": [],
   "source": [
    "# estimators = [('normalise',StandardScaler()),\n",
    "#                ('logit', LogisticRegression(C= 0.001,solver='lbfgs'))]\n",
    "\n",
    "# pipe_2 = Pipeline(estimators)\n",
    "\n",
    "# pipe_2.fit(x_train, y_train)"
   ]
  },
  {
   "cell_type": "code",
   "execution_count": null,
   "metadata": {},
   "outputs": [],
   "source": [
    "pipe_2 = joblib.load('logistic_final.pkl')"
   ]
  },
  {
   "cell_type": "code",
   "execution_count": null,
   "metadata": {},
   "outputs": [
    {
     "data": {
      "image/png": "[encoded data removed]",
      "text/plain": [
       "<Figure size 432x288 with 2 Axes>"
      ]
     },
     "metadata": {
      "needs_background": "light"
     },
     "output_type": "display_data"
    },
    {
     "data": {
      "text/plain": [
       "<Figure size 1152x648 with 0 Axes>"
      ]
     },
     "metadata": {},
     "output_type": "display_data"
    }
   ],
   "source": [
    "ax = plt.subplot();\n",
    "confusion_log = confusion_matrix(y_test, pipe_2.predict(x_test))\n",
    "plt.figure(figsize=(16,9));\n",
    "sns.heatmap(confusion_log,annot =True,fmt='g',ax = ax);\n",
    "\n",
    "# labels, title and ticks\n",
    "ax.set_xlabel('Predicted Result',fontsize=30);ax.set_ylabel('True Result',fontsize=30); \n",
    "ax.set_title('Logistic Regression Model Confusion Matrix',fontsize=27); \n",
    "ax.xaxis.set_ticklabels(['Home Loss','Draw','Home Win'],fontsize=20); \n",
    "ax.yaxis.set_ticklabels(['Home Loss','Draw','Home Win'],fontsize=20);\n",
    "plt.show();"
   ]
  },
  {
   "cell_type": "markdown",
   "metadata": {},
   "source": [
    "<a id='KNN'></a>\n",
    "\n",
    "### K-Nearest Neighbours\n"
   ]
  },
  {
   "cell_type": "code",
   "execution_count": null,
   "metadata": {},
   "outputs": [],
   "source": [
    "# # Create a preprocessing object that includes StandardScaler features and PCA\n",
    "\n",
    "# preprocess = FeatureUnion([(\"std\", StandardScaler()), (\"pca\", PCA())])\n",
    "\n",
    "# # Create a pipeline\n",
    "    \n",
    "# pipe = Pipeline([(\"preprocess\", preprocess),\n",
    "#                  (\"classifier\", KNeighborsClassifier())])\n",
    "\n",
    "# # Create space of candidate values\n",
    "# search_space = [{\"preprocess__pca__n_components\": [85,80],\n",
    "#                   \"classifier__n_neighbors\": list(range(15,18,21,24))}]\n",
    "\n",
    "# # Create grid search\n",
    "# knn_grid = GridSearchCV(pipe, search_space, cv=2, verbose=1, n_jobs=-1)\n",
    "\n",
    "# knn_grid.fit(x_train,y_train)\n",
    "\n",
    "# print(f'Best KNN Cross Validation score: {knn_grid.best_score_}')"
   ]
  },
  {
   "cell_type": "code",
   "execution_count": null,
   "metadata": {},
   "outputs": [],
   "source": [
    "# estimators = [('normalise',StandardScaler()),\n",
    "#                ('KNN', KNeighborsClassifier(n_neighbors=22))]\n",
    "\n",
    "# pipe_3_KNN = Pipeline(estimators)\n",
    "\n",
    "# pipe_3_KNN.fit(x_train, y_train)"
   ]
  },
  {
   "cell_type": "code",
   "execution_count": null,
   "metadata": {},
   "outputs": [],
   "source": [
    "pipe_3_KNN = joblib.load('KNN_final.pkl')"
   ]
  },
  {
   "cell_type": "code",
   "execution_count": null,
   "metadata": {},
   "outputs": [],
   "source": [
    "print(f'Best KNN score: {pipe_3_KNN.score(x_test, y_test)}')"
   ]
  },
  {
   "cell_type": "code",
   "execution_count": null,
   "metadata": {},
   "outputs": [],
   "source": [
    "ax= plt.subplot();\n",
    "confusion_KNN = confusion_matrix(y_test, pipe_3_KNN.predict(x_test))\n",
    "plt.figure(figsize=(16,9));\n",
    "sns.heatmap(confusion_KNN,annot =True,fmt='g',ax = ax);\n",
    "\n",
    "# labels, title and ticks\n",
    "ax.set_xlabel('Predicted Result',fontsize=30);ax.set_ylabel('True Result',fontsize=30); \n",
    "ax.set_title('KNN Model Confusion Matrix',fontsize=27); \n",
    "ax.xaxis.set_ticklabels(['Home Loss','Draw','Home Win'],fontsize=20); ax.yaxis.set_ticklabels(['Home Loss','Draw','Home Win'],fontsize=20);\n",
    "plt.show();"
   ]
  },
  {
   "cell_type": "markdown",
   "metadata": {},
   "source": [
    "<a id='XGboost'></a>\n",
    "\n",
    "\n",
    "### XG-Boost\n",
    "\n",
    "##### Note: This grid search to optimize hyper parameters ran overnight previously thus code is being commented out"
   ]
  },
  {
   "cell_type": "code",
   "execution_count": null,
   "metadata": {},
   "outputs": [],
   "source": [
    "# #Renaming feature column names so they are unique to use in XGBoost\n",
    "\n",
    "# x_train_xgb = x_train.copy()\n",
    "# x_train_xgb.columns = np.arange(1,90)\n",
    "\n",
    "# x_test_xgb = x_test.copy()\n",
    "# x_test_xgb.columns = np.arange(1,90)"
   ]
  },
  {
   "cell_type": "code",
   "execution_count": null,
   "metadata": {},
   "outputs": [],
   "source": [
    "# param_test = {\n",
    "#  'max_depth':np.arange(4,10,2),\n",
    "#  'min_child_weight': np.arange(9,15,2)\n",
    "# }\n",
    "\n",
    "# xgboost_gsearch = GridSearchCV(estimator = XGBClassifier( learning_rate =0.15, n_estimators=900, max_depth=5,\n",
    "#  min_child_weight=1, gamma=4, subsample=0.6, colsample_bytree=0.8,\n",
    "#  objective= 'multi:softmax', njobs=-1, scale_pos_weight=1), \n",
    "#  param_grid = param_test, scoring='accuracy',n_jobs=-1,iid=False, cv=2)\n",
    "\n",
    "# xgboost_gsearch.fit(x_train_xgb,y_train)\n",
    "\n",
    "# xgboost_gsearch.grid_scores_, gsearch1.best_params_, gsearch1.best_score_"
   ]
  },
  {
   "cell_type": "code",
   "execution_count": null,
   "metadata": {},
   "outputs": [],
   "source": [
    "# dec2_test2 = XGBClassifier(learning_rate=0.25, n_estimators=1000, objective='multi:softmax',reg_alpha = 50,\n",
    "#                     silent=True, n_jobs=-1, colsample_bytree= 1,gamma= 0.5, max_depth=20, min_child_weight= 6, subsample=0.45)\n",
    "# dec2_test2.fit(x_train_xgb,y_train)\n",
    "# dec2_test2.score(x_test_xgb,y_test)"
   ]
  },
  {
   "cell_type": "code",
   "execution_count": null,
   "metadata": {},
   "outputs": [],
   "source": [
    "dec2_test2 = joblib.load('XGBoost_final.pkl')"
   ]
  },
  {
   "cell_type": "code",
   "execution_count": null,
   "metadata": {},
   "outputs": [],
   "source": [
    "ax= plt.subplot();\n",
    "confusion_xgboost = confusion_matrix(y_test, dec2_test2.predict(x_test_xgb))\n",
    "plt.figure(figsize=(16,9));\n",
    "sns.heatmap(confusion_xgboost,annot =True,fmt='g',ax = ax);\n",
    "\n",
    "# labels, title and ticks\n",
    "ax.set_xlabel('Predicted Result',fontsize=30);ax.set_ylabel('True Result',fontsize=30); \n",
    "ax.set_title('XGBoost Model Confusion Matrix',fontsize=27); \n",
    "ax.xaxis.set_ticklabels(['Home Loss','Draw','Home Win'],fontsize=20); ax.yaxis.set_ticklabels(['Home Loss','Draw','Home Win'],fontsize=20);\n",
    "plt.show();"
   ]
  },
  {
   "cell_type": "markdown",
   "metadata": {},
   "source": [
    "<a id='SVM'></a>\n",
    "\n",
    "### SVM"
   ]
  },
  {
   "cell_type": "code",
   "execution_count": null,
   "metadata": {},
   "outputs": [],
   "source": [
    "# # Create a preprocessing object that includes StandardScaler\n",
    "\n",
    "# preprocess = FeatureUnion([(\"std\", StandardScaler())])\n",
    "    \n",
    "# pipe = Pipeline([(\"preprocess\", preprocess),\n",
    "#                  (\"classifier\", SVC())])\n",
    "\n",
    "# # Create space of candidate values\n",
    "# search_space = [{\"classifier__kernel\": [\"poly\",\"rbf\",\"sigmoid\"],\n",
    "#                  \"classifier__gamma\": np.logspace(-9, 3, 13),\n",
    "#                  \"classifier__C\": np.logspace(-3, 3, 10)}]\n",
    "\n",
    "# # Create grid search\n",
    "# SVM_test2 = GridSearchCV(pipe, search_space, cv=2, verbose=1, n_jobs=-1)\n",
    "\n",
    "# SVM_test2.fit(x_train,y_train)"
   ]
  },
  {
   "cell_type": "markdown",
   "metadata": {},
   "source": [
    "Loading the model:"
   ]
  },
  {
   "cell_type": "code",
   "execution_count": null,
   "metadata": {},
   "outputs": [],
   "source": [
    "SVM_test2 = joblib.load('SVM_final.pkl')\n",
    "print(f'(SVM best parameters after grid search: {SVM_test2.best_params_}')"
   ]
  },
  {
   "cell_type": "code",
   "execution_count": null,
   "metadata": {},
   "outputs": [],
   "source": [
    "ax= plt.subplot();\n",
    "confusion_svm = confusion_matrix(y_test, SVM_test2.predict(x_test))\n",
    "plt.figure(figsize=(16,9));\n",
    "sns.heatmap(confusion_svm,annot =True,fmt='g',ax = ax);\n",
    "\n",
    "# labels, title and ticks\n",
    "ax.set_xlabel('Predicted Result',fontsize=30);ax.set_ylabel('True Result',fontsize=30);  \n",
    "ax.set_title('SVM Model Confusion Matrix',fontsize=27); \n",
    "ax.xaxis.set_ticklabels(['Home Loss','Draw','Home Win'],fontsize=20); ax.yaxis.set_ticklabels(['Home Loss','Draw','Home Win'],fontsize=20);\n",
    "plt.show();"
   ]
  },
  {
   "cell_type": "markdown",
   "metadata": {},
   "source": [
    "<a id='Eval'></a>\n",
    "# Model Evaluation:\n",
    "\n",
    "* Stratified Classifier: makes predictions that are proportional to the target vector's class proportions\n",
    "* Uniform Classifier: makes predictions uniformally at random between the three classes\n",
    "* Most Frequent: makes the prediction of the most frequent class every time (Home Win)"
   ]
  },
  {
   "cell_type": "code",
   "execution_count": null,
   "metadata": {},
   "outputs": [],
   "source": [
    "dummy_strat = DummyClassifier(strategy='stratified') \n",
    "\n",
    "# \"Train\" model\n",
    "dummy_strat = dummy_strat.fit(x_train, y_train)\n",
    "dummy_strat_score = dummy_strat.score(x_test,y_test)\n",
    "print(dummy_strat_score)"
   ]
  },
  {
   "cell_type": "code",
   "execution_count": null,
   "metadata": {},
   "outputs": [],
   "source": [
    "dummy_uniform = DummyClassifier(strategy='uniform') \n",
    "\n",
    "# \"Train\" model\n",
    "dummy_uniform = dummy_uniform.fit(x_train, y_train)\n",
    "dummy_uniform_score = dummy_uniform.score(x_test,y_test)\n",
    "print(dummy_uniform_score)"
   ]
  },
  {
   "cell_type": "code",
   "execution_count": null,
   "metadata": {},
   "outputs": [],
   "source": [
    "dummy_most_frequent = DummyClassifier(strategy='most_frequent') \n",
    "\n",
    "# \"Train\" model\n",
    "dummy_most_frequent = dummy_most_frequent.fit(x_train, y_train)\n",
    "dummy_most_frequent_score = dummy_most_frequent.score(x_test,y_test)\n",
    "print(dummy_most_frequent_score)"
   ]
  },
  {
   "cell_type": "code",
   "execution_count": null,
   "metadata": {},
   "outputs": [],
   "source": [
    "scores = {\"Logistic Regression\": pipe_2.score(x_test, y_test),\n",
    "            \"KNN\": pipe_3_KNN.score(x_test, y_test),\n",
    "           \"XGBoost\": dec2_test2.score(x_test_xgb, y_test),\n",
    "           \"SVM\":SVM_test2.score(x_test, y_test)}"
   ]
  },
  {
   "cell_type": "code",
   "execution_count": null,
   "metadata": {},
   "outputs": [],
   "source": [
    "names = list(scores.keys())\n",
    "values = list(scores.values())\n",
    "plt.bar(0,values[0],tick_label=names[0],color='green')\n",
    "plt.bar(1,values[1],tick_label=names[1],color='blue')\n",
    "plt.bar(2,values[2],tick_label=names[2],color='orange')\n",
    "plt.bar(3,values[3],tick_label=names[3],color='purple')\n",
    "plt.xticks(range(0,4),names)\n",
    "plt.ylim(0.30, 0.57)\n",
    "plt.title(\"Model Accuracy Scores\", fontsize=20)\n",
    "plt.xlabel('Models', fontsize=18)\n",
    "plt.ylabel('Accuracy Score', fontsize=16)\n",
    "plt.xticks(fontsize=14, rotation=50)\n",
    "plt.yticks(fontsize=14, rotation=50)\n",
    "\n",
    "#Most frequent accuracy score horizontal line\n",
    "plt.axhline(y=dummy_most_frequent_score, xmin=0, xmax=4,color='black',label='Always Predicting Home Win',linewidth=3.0)\n",
    "\n",
    "#Stratified predictions\n",
    "plt.axhline(y=dummy_strat_score, xmin=0, xmax=4,color='firebrick',label='Stratified Prediction',linewidth=3.0,)\n",
    "\n",
    "#Random guessing horizontal line\n",
    "plt.axhline(y=dummy_uniform_score, xmin=0, xmax=4,color='gray',label='Random Guessing',linewidth=3.0,)\n",
    "\n",
    "plt.legend(loc=9, prop={'size': 13})\n",
    "\n",
    "plt.show()"
   ]
  },
  {
   "cell_type": "markdown",
   "metadata": {},
   "source": [
    "The logistic regression model yielded the highest accuracy score. Thus that is the model chosen to test out the betting strategy."
   ]
  },
  {
   "cell_type": "markdown",
   "metadata": {},
   "source": [
    "## Model Accuracy vs The Bookies Accuracy\n",
    "\n",
    "The bookies predicted result is the result for which there is the lowest odds (highest probability)"
   ]
  },
  {
   "cell_type": "code",
   "execution_count": null,
   "metadata": {},
   "outputs": [],
   "source": [
    "#Merge Leauge name onto Match Dataframe for per leauge analysis and visualization\n",
    "\n",
    "Match_Test_Leagues =  Match_Test.merge(League, how = 'left', left_on='league_id', right_on='id')\n",
    "\n",
    "#Rename 'name' column to League\n",
    "Match_Test_Leagues = Match_Test_Leagues.rename(columns={'name': 'League'})\n",
    "\n",
    "#Adding a column of ones to total matches \n",
    "Match_Test_Leagues['Total Matches'] = np.where(Match_Test_Leagues.index.notnull(),1,0)"
   ]
  },
  {
   "cell_type": "markdown",
   "metadata": {},
   "source": [
    "This function returns a 1 if the bookies predicted result was correct and 0 if incorrect."
   ]
  },
  {
   "cell_type": "code",
   "execution_count": null,
   "metadata": {},
   "outputs": [],
   "source": [
    "# Function to get the bookies prediction and score if it was correct\n",
    "\n",
    "# 1 for a correct prediction and 0 for an incorrect prediction\n",
    "\n",
    "def bookies_checker (df):\n",
    "    \n",
    "    ''' Returns 1 for a correct predicted result and 0 for incorrect predicted result for the bookies'''\n",
    "    \n",
    "    Result = df['Result']    # actual result -1,0,1\n",
    "    \n",
    "    probabilities = []       # list to append the bookies implied probability  \n",
    "    \n",
    "    #append the probabilities in ORDER.. homeloss, draw, homewin. Order matters due to if condition below\n",
    "    \n",
    "    probabilities.append((100/df['B365A'])/100)     #appending home loss / away win probability first\n",
    "    probabilities.append((100 / df['B365D'])/100)   #appending draw probability second\n",
    "    probabilities.append((100 / df['B365H'])/100) #appending home win probability third\n",
    "    \n",
    "    # check the INDEX of the highest probability in list and impute implied predicted result accordingly. \n",
    "    \n",
    "    if (probabilities.index(max(probabilities)) == 0): #if index of highest probability is 0 then prediction is home loss\n",
    "        bookies_prediction = -1\n",
    "    elif (probabilities.index(max(probabilities)) == 1): #if index of highest probability is 1 then prediction is home draw\n",
    "        bookies_prediction = 0\n",
    "    else:\n",
    "        bookies_prediction = 1                    #if index of highest probability is 2 then prediction is home win\n",
    "    \n",
    "    #Check actual result to bookies prediction and return\n",
    "    \n",
    "    if bookies_prediction == Result:\n",
    "        correct_prediction = 1\n",
    "    else:\n",
    "        correct_prediction = 0\n",
    "    \n",
    "    \n",
    "    return correct_prediction"
   ]
  },
  {
   "cell_type": "code",
   "execution_count": null,
   "metadata": {},
   "outputs": [],
   "source": [
    "# Predicted result by Logistic Model\n",
    "Match_Test_Leagues['Model_Prediction'] = pipe_2.predict(x_test)"
   ]
  },
  {
   "cell_type": "markdown",
   "metadata": {},
   "source": [
    "This function returns 1 if the model predicted the correct result and 0 if incorrect."
   ]
  },
  {
   "cell_type": "code",
   "execution_count": null,
   "metadata": {},
   "outputs": [],
   "source": [
    "# Function to calculate whether the model prediction was correct\n",
    "\n",
    "def model_checker (df):\n",
    "    \n",
    "    Result = df['Result']    # actual result -1,0,1\n",
    "    \n",
    "    Model_prediction = df['Model_Prediction']\n",
    "    \n",
    "    if Result == Model_prediction:\n",
    "        model_correct = 1\n",
    "    else:\n",
    "        model_correct = 0\n",
    "    \n",
    "    return model_correct"
   ]
  },
  {
   "cell_type": "markdown",
   "metadata": {},
   "source": [
    "Creating columns for tracking when the bookies and the models predict the correct result."
   ]
  },
  {
   "cell_type": "code",
   "execution_count": null,
   "metadata": {},
   "outputs": [],
   "source": [
    "#Create column for bookies and models score\n",
    "\n",
    "Match_Test_Leagues['Bookies_score'] = Match_Test_Leagues.apply(lambda x: bookies_checker(x), axis =1)\n",
    "Match_Test_Leagues['Model_score'] = Match_Test_Leagues.apply(lambda x: model_checker(x), axis =1)"
   ]
  },
  {
   "cell_type": "code",
   "execution_count": null,
   "metadata": {},
   "outputs": [],
   "source": [
    "Match_Test_Leagues_plot1 = Match_Test_Leagues.groupby(['League']).agg({'Bookies_score':sum, 'Model_score':sum,\n",
    "                                         'Total Matches':sum})"
   ]
  },
  {
   "cell_type": "markdown",
   "metadata": {},
   "source": [
    "Table shows the number of times the correct result was predicted by the model and bookies."
   ]
  },
  {
   "cell_type": "code",
   "execution_count": null,
   "metadata": {
    "scrolled": true
   },
   "outputs": [],
   "source": [
    "Match_Test_Leagues_plot1"
   ]
  },
  {
   "cell_type": "code",
   "execution_count": null,
   "metadata": {},
   "outputs": [],
   "source": [
    "Match_Test_Leagues_accuracy_plot = Match_Test_Leagues_plot1.copy()"
   ]
  },
  {
   "cell_type": "code",
   "execution_count": null,
   "metadata": {},
   "outputs": [],
   "source": [
    "Match_Test_Leagues_accuracy_plot['Bookies accuracy'] = Match_Test_Leagues_accuracy_plot['Bookies_score'] / Match_Test_Leagues_accuracy_plot['Total Matches']\n",
    "Match_Test_Leagues_accuracy_plot['Model accuracy'] = Match_Test_Leagues_accuracy_plot['Model_score'] / Match_Test_Leagues_accuracy_plot['Total Matches']"
   ]
  },
  {
   "cell_type": "code",
   "execution_count": null,
   "metadata": {},
   "outputs": [],
   "source": [
    "Match_Test_Leagues_accuracy_plot = Match_Test_Leagues_accuracy_plot[['Bookies accuracy','Model accuracy']]"
   ]
  },
  {
   "cell_type": "code",
   "execution_count": null,
   "metadata": {},
   "outputs": [],
   "source": [
    "Match_Test_Leagues_accuracy_plot.plot(kind='bar')\n",
    "plt.title(\"Accuracy Scores per League vs Bookie Predictions\", fontsize=20)\n",
    "plt.xlabel('League', fontsize=18)\n",
    "plt.ylabel('Accuracy Score', fontsize=16)\n",
    "plt.xticks(fontsize=14, rotation=80)\n",
    "plt.yticks(fontsize=14, rotation=50)\n",
    "plt.legend(loc=2, prop={'size': 14})\n",
    "plt.show()"
   ]
  },
  {
   "cell_type": "code",
   "execution_count": null,
   "metadata": {},
   "outputs": [],
   "source": [
    "Basis_point_increase = (round(10000*(Match_Test_Leagues_plot1['Model_score'].sum()\\\n",
    "                             /Match_Test_Leagues_plot1['Total Matches'].sum()- \\\n",
    "                             Match_Test_Leagues_plot1['Bookies_score'].sum()\\\n",
    "                             /Match_Test_Leagues_plot1['Total Matches'].sum()),2))\n",
    "\n",
    "print(f'Model accuracy is greater than bookies accuracy by {Basis_point_increase} basis points')"
   ]
  },
  {
   "cell_type": "markdown",
   "metadata": {},
   "source": [
    "## Using Model Predictions as a Betting Strategy:"
   ]
  },
  {
   "cell_type": "markdown",
   "metadata": {},
   "source": [
    "<a id='Bet1'></a>\n",
    "##### Betting Strategy 1: Place $10 on the models predicted result on every match in 2015"
   ]
  },
  {
   "cell_type": "code",
   "execution_count": null,
   "metadata": {},
   "outputs": [],
   "source": [
    "#Function to calculate payout for betting $10 based on the models predictions\n",
    "\n",
    "def pay_out (df):\n",
    "    \n",
    "    Result = df['Result']\n",
    "    Model_score = df['Model_score']\n",
    "    \n",
    "    #Payout for a $10 bet \n",
    "    home_win_payout = 10*(df['B365H'] - 1)\n",
    "    draw_payout = 10*(df['B365D'] - 1)\n",
    "    home_loss_payout = 10*(df['B365A']-1)\n",
    "    \n",
    "    if Model_score == 1:\n",
    "        if Result == 1:\n",
    "            payout = home_win_payout\n",
    "        elif Result == 0:\n",
    "            payout = draw_payout\n",
    "        elif Result == -1:\n",
    "            payout = home_loss_payout\n",
    "    else: payout = -10\n",
    "        \n",
    "    return payout"
   ]
  },
  {
   "cell_type": "code",
   "execution_count": null,
   "metadata": {},
   "outputs": [],
   "source": [
    "Match_Test_Leagues['Bet_Return'] = Match_Test_Leagues.apply(lambda x: pay_out(x), axis = 1 )"
   ]
  },
  {
   "cell_type": "markdown",
   "metadata": {},
   "source": [
    "Breaking down by league:"
   ]
  },
  {
   "cell_type": "code",
   "execution_count": null,
   "metadata": {},
   "outputs": [],
   "source": [
    "Engligh_Premier_League_df = Match_Test_Leagues[Match_Test_Leagues['League']== 'England Premier League']\n",
    "Scotland_Premier_League_df = Match_Test_Leagues[Match_Test_Leagues['League']== 'Scotland Premier League']\n",
    "Portugal_Liga_ZON_Sagres_df = Match_Test_Leagues[Match_Test_Leagues['League']== 'Portugal Liga ZON Sagres']\n",
    "Spain_LIGA_BBVA_df = Match_Test_Leagues[Match_Test_Leagues['League']== 'Spain LIGA BBVA']\n",
    "Italy_Serie_A_df = Match_Test_Leagues[Match_Test_Leagues['League']== 'Italy Serie A']\n",
    "France_Ligue_1_df = Match_Test_Leagues[Match_Test_Leagues['League']== 'France Ligue 1']\n",
    "Netherlands_Eredivisie_df = Match_Test_Leagues[Match_Test_Leagues['League']== 'Netherlands Eredivisie']\n",
    "Belgium_Jupiler_League_df = Match_Test_Leagues[Match_Test_Leagues['League']== 'Belgium Jupiler League']\n",
    "Germany_1_Bundesliga_df = Match_Test_Leagues[Match_Test_Leagues['League']== 'Germany 1. Bundesliga']"
   ]
  },
  {
   "cell_type": "markdown",
   "metadata": {},
   "source": [
    "##### Which leagues would have made a profit using strategy 1 in 2015? \n",
    "\n",
    "###### Italian, Scottish, German & French"
   ]
  },
  {
   "cell_type": "code",
   "execution_count": null,
   "metadata": {},
   "outputs": [],
   "source": [
    "Scotland_Premier_League_df[Scotland_Premier_League_df['date_year']==2015]\\\n",
    "['Bet_Return'].cumsum().plot(linestyle='-', color='blue');\n",
    "\n",
    "Italy_Serie_A_df[Italy_Serie_A_df['date_year']==2015]\\\n",
    "['Bet_Return'].cumsum().plot(linestyle='-', color='green');\n",
    "\n",
    "Germany_1_Bundesliga_df[Germany_1_Bundesliga_df['date_year']==2015]\\\n",
    "['Bet_Return'].cumsum().plot(linestyle='-', color='yellow');\n",
    "\n",
    "France_Ligue_1_df[France_Ligue_1_df['date_year']==2015]\\\n",
    "['Bet_Return'].cumsum().plot(linestyle='-', color='red');\n",
    "\n",
    "blue_patch = mpatches.Patch(color='blue', label='Scottish Premier League')\n",
    "green_patch = mpatches.Patch(color='green', label='Italy Serie A')\n",
    "yellow_patch = mpatches.Patch(color='yellow', label='Germany 1. Bundesliga')\n",
    "red_patch = mpatches.Patch(color='red', label='France Ligue 1')\n",
    "\n",
    "plt.legend(handles=[green_patch,blue_patch,red_patch,yellow_patch],loc=2,prop={'size': 13})\n",
    "\n",
    "plt.xlabel('Games Played', fontsize=18)\n",
    "plt.ylabel('Profit / Loss ($)', fontsize=16)\n",
    "\n",
    "plt.title(\"Return on bets per League in 2015\", fontsize=20)\n",
    "\n",
    "axhline(0, color='black')\n",
    "\n",
    "# remove x axis ticks\n",
    "plt.tick_params( axis='x',labelbottom=False)\n",
    "\n",
    "plt.show;"
   ]
  },
  {
   "cell_type": "markdown",
   "metadata": {},
   "source": [
    "##### Which leagues would have made a loss using strategy 1 in 2015?\n",
    "\n",
    "###### English, Portugese, Spanish, Netherlands, Belgium"
   ]
  },
  {
   "cell_type": "code",
   "execution_count": null,
   "metadata": {},
   "outputs": [],
   "source": [
    "Engligh_Premier_League_df[Engligh_Premier_League_df['date_year']==2015]\\\n",
    "['Bet_Return'].cumsum().plot(linestyle='-',color='black');\n",
    "\n",
    "Portugal_Liga_ZON_Sagres_df[Portugal_Liga_ZON_Sagres_df['date_year']==2015]\\\n",
    "['Bet_Return'].cumsum().plot(linestyle='-',color='yellow');\n",
    "\n",
    "Spain_LIGA_BBVA_df[Spain_LIGA_BBVA_df['date_year']==2015]\\\n",
    "['Bet_Return'].cumsum().plot(linestyle='-',color='green');\n",
    "\n",
    "Netherlands_Eredivisie_df[Netherlands_Eredivisie_df['date_year']==2015]\\\n",
    "['Bet_Return'].cumsum().plot(linestyle='-', color='blue');\n",
    "\n",
    "Belgium_Jupiler_League_df[Belgium_Jupiler_League_df['date_year']==2015]\\\n",
    "['Bet_Return'].cumsum().plot(linestyle='-', color='red');\n",
    "\n",
    "black_patch = mpatches.Patch(color='black', label='English Premier League')\n",
    "yellow_patch = mpatches.Patch(color='yellow', label='Portugal Liga ZON Sagres')\n",
    "green_patch = mpatches.Patch(color='green', label='Spain LIGA BBVA')\n",
    "blue_patch = mpatches.Patch(color='blue', label='Netherlands Eredivisie')\n",
    "red_patch = mpatches.Patch(color='red', label='Belgium Jupiler League')\n",
    "\n",
    "plt.legend(handles=[yellow_patch,green_patch,black_patch,red_patch,blue_patch],loc=2,prop={'size': 13})\n",
    "\n",
    "plt.xlabel('Games Played', fontsize=18)\n",
    "plt.ylabel('Profit / Loss ($)', fontsize=16)\n",
    "\n",
    "axhline(0, color='black')\n",
    "\n",
    "plt.title(\"Net Loss on bets per League in 2015\", fontsize=20)\n",
    "\n",
    "# remove x axis ticks\n",
    "plt.tick_params( axis='x',labelbottom=False)\n",
    "\n",
    "plt.show;\n"
   ]
  },
  {
   "cell_type": "markdown",
   "metadata": {},
   "source": [
    "Breakdown of Betting Return:"
   ]
  },
  {
   "cell_type": "code",
   "execution_count": null,
   "metadata": {
    "scrolled": false
   },
   "outputs": [],
   "source": [
    "return_plot_df = Match_Test_Leagues.groupby(['League','date_year']).agg({'Bet_Return':sum}).sort_values(by=['League','date_year'],ascending=False)\n",
    "return_plot_df.reset_index(inplace=True)\n",
    "return_plot_df"
   ]
  },
  {
   "cell_type": "markdown",
   "metadata": {},
   "source": [
    "<a id='Bet2'></a>\n",
    "### Betting Strategy 2: Placing bets on games in which the models probability of the result is greater than the bookies probability of the same result\n",
    "\n",
    "#### Models predicted probability > Bookies probability"
   ]
  },
  {
   "cell_type": "markdown",
   "metadata": {},
   "source": [
    "Creating columns for the models probability of each result"
   ]
  },
  {
   "cell_type": "code",
   "execution_count": null,
   "metadata": {},
   "outputs": [],
   "source": [
    "#Pandas Series of logistic regression probabilities of each result\n",
    "\n",
    "Match_Test_Leagues['Logistic_Probability_of_Home_Win'] = pipe_2.predict_proba(x_test)[:,2] #Home Win is indexed at 2 as its label is 1\n",
    "Match_Test_Leagues['Logistic_Probability_of_Draw_Win'] = pipe_2.predict_proba(x_test)[:,1] #Draw is indexed at 1 as its label is 0\n",
    "Match_Test_Leagues['Logistic_Probability_of_Home_Loss'] = pipe_2.predict_proba(x_test)[:,0] #Home Loss is indexed at 0 as its label is -1"
   ]
  },
  {
   "cell_type": "markdown",
   "metadata": {},
   "source": [
    "This function calculates the bookies probability of a result given the odds"
   ]
  },
  {
   "cell_type": "code",
   "execution_count": null,
   "metadata": {},
   "outputs": [],
   "source": [
    "def bookies_prob_home_win (df):\n",
    "    \n",
    "    ''' Returns bookies probability of a home win'''\n",
    "\n",
    "    return (100 / df['B365H'])/100\n",
    "\n",
    "def bookies_prob_draw (df):\n",
    "    \n",
    "    ''' Returns bookies probability of a draw'''\n",
    "\n",
    "    return (100 / df['B365D'])/100\n",
    "\n",
    "def bookies_prob_home_loss (df):\n",
    "    \n",
    "    ''' Returns bookies probability of a draw'''\n",
    "    \n",
    "    return (100 / df['B365A'])/100\n"
   ]
  },
  {
   "cell_type": "code",
   "execution_count": null,
   "metadata": {},
   "outputs": [],
   "source": [
    "#Adding bookies probabilities\n",
    "Match_Test_Leagues['bookies_prob_home_win'] = Match_Test_Leagues.apply(lambda x: bookies_prob_home_win(x), axis =1)\n",
    "Match_Test_Leagues['bookies_prob_draw'] = Match_Test_Leagues.apply(lambda x: bookies_prob_draw(x), axis =1)\n",
    "Match_Test_Leagues['bookies_prob_home_loss'] = Match_Test_Leagues.apply(lambda x: bookies_prob_home_loss(x), axis =1)"
   ]
  },
  {
   "cell_type": "code",
   "execution_count": null,
   "metadata": {},
   "outputs": [],
   "source": [
    "def model_higher_than_bookies (df):\n",
    "    \n",
    "    '''Returns a 1 if model predicted probability greater than bookies predicted probability for that result'''\n",
    "    \n",
    "    Model_Prediction = df['Model_Prediction'] \n",
    "    \n",
    "    if Model_Prediction == 1:\n",
    "        if df['Logistic_Probability_of_Home_Win'] >= df['bookies_prob_home_win']:\n",
    "            return 1\n",
    "        else:\n",
    "            return 0\n",
    "    if Model_Prediction == 0:\n",
    "        if df['Logistic_Probability_of_Draw_Win'] >= df['bookies_prob_draw']:\n",
    "            return 1\n",
    "        else:\n",
    "            return 0\n",
    "    if Model_Prediction == -1:\n",
    "        if df['Logistic_Probability_of_Home_Loss'] >= df['bookies_prob_home_loss']:\n",
    "            return 1\n",
    "        else:\n",
    "            return 0        "
   ]
  },
  {
   "cell_type": "code",
   "execution_count": null,
   "metadata": {},
   "outputs": [],
   "source": [
    "# Checking where model probabilities higher than bookies\n",
    "Match_Test_Leagues['model_higher_than_bookies'] = Match_Test_Leagues.apply(lambda x: model_higher_than_bookies(x), axis =1)"
   ]
  },
  {
   "cell_type": "markdown",
   "metadata": {},
   "source": [
    "This dataframe includes only the matches for which the models probability of a result is greater than the bookies:"
   ]
  },
  {
   "cell_type": "code",
   "execution_count": null,
   "metadata": {},
   "outputs": [],
   "source": [
    "Strategy1 = Match_Test_Leagues[Match_Test_Leagues['model_higher_than_bookies']==1]"
   ]
  },
  {
   "cell_type": "markdown",
   "metadata": {},
   "source": [
    "#### How much total return would be made across all leagues in 2015?"
   ]
  },
  {
   "cell_type": "code",
   "execution_count": null,
   "metadata": {
    "scrolled": true
   },
   "outputs": [],
   "source": [
    "Strategy1[Strategy1['date_year']==2015]['Bet_Return'].cumsum().plot(linestyle='-',color='blue');\n",
    "\n",
    "plt.xlabel('Games Played in 2015', fontsize=18)\n",
    "plt.ylabel('Profit / Loss ($)', fontsize=16)\n",
    "\n",
    "blue_patch = mpatches.Patch(color='blue', label='Pay out')\n",
    "plt.legend(handles=[blue_patch],loc=2,prop={'size': 13})\n",
    "\n",
    "axhline(0, color='black')\n",
    "\n",
    "plt.title(\"Profit on bets in 2015\", fontsize=20)\n",
    "\n",
    "# remove x axis ticks\n",
    "plt.tick_params( axis='x',labelbottom=False)\n",
    "\n",
    "plt.show;"
   ]
  },
  {
   "cell_type": "markdown",
   "metadata": {},
   "source": [
    "Return breakdown by league:"
   ]
  },
  {
   "cell_type": "code",
   "execution_count": null,
   "metadata": {},
   "outputs": [],
   "source": [
    "Strategy1_Engligh_Premier_League_df = Strategy1[Strategy1['date_year']==2015][Strategy1['League']== 'England Premier League']\n",
    "Strategy1_Scotland_Premier_League_df = Strategy1[Strategy1['date_year']==2015][Strategy1['League']== 'Scotland Premier League']\n",
    "Strategy1_Portugal_Liga_ZON_Sagres_df = Strategy1[Strategy1['date_year']==2015][Strategy1['League']== 'Portugal Liga ZON Sagres']\n",
    "Strategy1_Spain_LIGA_BBVA_df = Strategy1[Strategy1['date_year']==2015][Strategy1['League']== 'Spain LIGA BBVA']\n",
    "Strategy1_Italy_Serie_A_df = Strategy1[Strategy1['date_year']==2015][Strategy1['League']== 'Italy Serie A']\n",
    "Strategy1_France_Ligue_1_df = Strategy1[Strategy1['date_year']==2015][Strategy1['League']== 'France Ligue 1']\n",
    "Strategy1_Netherlands_Eredivisie_df = Strategy1[Strategy1['date_year']==2015][Strategy1['League']== 'Netherlands Eredivisie']\n",
    "Strategy1_Belgium_Jupiler_League_df = Strategy1[Strategy1['date_year']==2015][Strategy1['League']== 'Belgium Jupiler League']\n",
    "Strategy1_Germany_1_Bundesliga_df = Strategy1[Strategy1['date_year']==2015][Strategy1['League']== 'Germany 1. Bundesliga']\n"
   ]
  },
  {
   "cell_type": "code",
   "execution_count": null,
   "metadata": {},
   "outputs": [],
   "source": [
    "Strategy1_Engligh_Premier_League_df['Bet_Return'].cumsum().plot(linestyle='-', color='blue');\n",
    "Strategy1_Scotland_Premier_League_df['Bet_Return'].cumsum().plot(linestyle='-', color='green');\n",
    "Strategy1_Portugal_Liga_ZON_Sagres_df['Bet_Return'].cumsum().plot(linestyle='-', color='yellow');\n",
    "Strategy1_Spain_LIGA_BBVA_df['Bet_Return'].cumsum().plot(linestyle='-', color='red');\n",
    "Strategy1_Italy_Serie_A_df['Bet_Return'].cumsum().plot(linestyle='-', color='green');\n",
    "Strategy1_France_Ligue_1_df['Bet_Return'].cumsum().plot(linestyle='-', color='deepskyblue');\n",
    "Strategy1_Netherlands_Eredivisie_df['Bet_Return'].cumsum().plot(linestyle='-', color='magenta');\n",
    "Strategy1_Belgium_Jupiler_League_df['Bet_Return'].cumsum().plot(linestyle='-', color='brown');\n",
    "Strategy1_Germany_1_Bundesliga_df['Bet_Return'].cumsum().plot(linestyle='-', color='crimson');\n",
    "\n",
    "blue_patch = mpatches.Patch(color='blue', label='English Premier League')\n",
    "green_patch = mpatches.Patch(color='green', label='Scotish Premier League')\n",
    "yellow_patch = mpatches.Patch(color='yellow', label='Portugal_Liga')\n",
    "red_patch = mpatches.Patch(color='red', label='Spain LIGA BBVA')\n",
    "green_patch = mpatches.Patch(color='green', label='Italy Serie A')\n",
    "deepskyblue_patch = mpatches.Patch(color='deepskyblue', label='France Ligue 1')\n",
    "magenta_patch = mpatches.Patch(color='magenta', label='Netherlands Eredivisie')\n",
    "brown_patch = mpatches.Patch(color='brown', label='Belgium Jupiler League')\n",
    "crimson_patch = mpatches.Patch(color='crimson', label='Germany 1 Bundesliga')\n",
    "\n",
    "\n",
    "plt.legend(handles=[green_patch,blue_patch,red_patch,yellow_patch,red_patch,green_patch,magenta_patch,deepskyblue_patch,\n",
    "                    brown_patch,crimson_patch\n",
    "                   ],loc=2,prop={'size': 13})\n",
    "\n",
    "plt.xlabel('Games Played', fontsize=18)\n",
    "plt.ylabel('Profit / Loss ($)', fontsize=16)\n",
    "\n",
    "plt.title(\"Net Profit on bets per League in 2015\", fontsize=20)\n",
    "\n",
    "axhline(0, color='black')\n",
    "\n",
    "# remove x axis ticks\n",
    "plt.tick_params( axis='x',labelbottom=False)\n",
    "\n",
    "plt.show;"
   ]
  },
  {
   "cell_type": "markdown",
   "metadata": {},
   "source": [
    "How many bets were placed using strategy 2?"
   ]
  },
  {
   "cell_type": "code",
   "execution_count": null,
   "metadata": {},
   "outputs": [],
   "source": [
    "#Groupping by League for 2015 to analyze number of matches bet on vs total matches\n",
    "\n",
    "Strategy1_breakdown = Match_Test_Leagues[Match_Test_Leagues['date_year']==2015].groupby(['League']).agg({'model_higher_than_bookies':sum,\n",
    "                                         'Total Matches':sum})"
   ]
  },
  {
   "cell_type": "code",
   "execution_count": null,
   "metadata": {},
   "outputs": [],
   "source": [
    "sns.set(style=\"whitegrid\")\n",
    "\n",
    "# Initialize the matplotlib figure\n",
    "f, ax = plt.subplots(figsize=(10, 15))\n",
    "\n",
    "# Plot the total matches\n",
    "sns.set_color_codes(\"pastel\")\n",
    "sns.barplot(x=\"Total Matches\", y=Strategy1_breakdown.index, data=Strategy1_breakdown,\n",
    "            label=\"Total Matches\", color=\"b\")\n",
    "\n",
    "# Plot the matches where the model prediction probabilities for the correct result were higher than the bookies\n",
    "sns.set_color_codes(\"muted\")\n",
    "sns.barplot(x=\"model_higher_than_bookies\", y=Strategy1_breakdown.index, data=Strategy1_breakdown,\n",
    "            label=\"Matches bet on\", color=\"b\")\n",
    "\n",
    "# Add a legend and informative axis label\n",
    "ax.legend(ncol=3, loc=\"top right\", frameon=True,fontsize=13)\n",
    "ax.set(xlim=(0, Strategy1_breakdown['Total Matches'].max())) \n",
    "ax.set_ylabel(\"League\", fontsize=20)\n",
    "ax.set_xlabel(\"Matches\",fontsize=20)\n",
    "sns.despine(left=True, bottom=True)\n",
    "\n",
    "plt.title(\"Breakdown of matches bet on\", fontsize=20)\n",
    "plt.show;"
   ]
  },
  {
   "cell_type": "markdown",
   "metadata": {},
   "source": [
    "### Return on Investment:"
   ]
  },
  {
   "cell_type": "code",
   "execution_count": null,
   "metadata": {
    "scrolled": true
   },
   "outputs": [],
   "source": [
    "Net_Return = Strategy1[Strategy1['date_year']==2015].Bet_Return.sum()\n",
    "Total_investments = len(Strategy1[Strategy1['date_year']==2015])*10\n",
    "Return_on_investment = 100*round((Net_Return / Total_investments),4)\n",
    "print(f'{Return_on_investment} ')"
   ]
  },
  {
   "cell_type": "markdown",
   "metadata": {},
   "source": [
    "##### 2015 Annual Return on Investment using Betting Strategy 2:   9.42%"
   ]
  },
  {
   "cell_type": "markdown",
   "metadata": {},
   "source": [
    "<a id='Conclusion'></a>\n",
    "## Conclusion"
   ]
  },
  {
   "cell_type": "markdown",
   "metadata": {},
   "source": [
    "The model to predict the outcomes of a soccer matches is built using a combination of FIFA statistics and engineered features. The model with the highest accuracy score on the test match dataset was the Logistic Regression model. Using the models probability of the predicted result of a game and comparing it to the implied probability given the bookies odds for that result and only betting when the models probability is greater than the bookies was the most betting lucrative strategy. This strategy was tested across matches in 2015 and returned an annual 9.42% ROI."
   ]
  }
 ],
 "metadata": {
  "kernelspec": {
   "display_name": "Python 3",
   "language": "python",
   "name": "python3"
  },
  "language_info": {
   "codemirror_mode": {
    "name": "ipython",
    "version": 3
   },
   "file_extension": ".py",
   "mimetype": "text/x-python",
   "name": "python",
   "nbconvert_exporter": "python",
   "pygments_lexer": "ipython3",
   "version": "3.7.1"
  }
 },
 "nbformat": 4,
 "nbformat_minor": 2
}
